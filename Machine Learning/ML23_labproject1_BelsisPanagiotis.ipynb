{
  "cells": [
    {
      "cell_type": "markdown",
      "metadata": {
        "id": "Dv7UKdyCAnqD"
      },
      "source": [
        "### Μηχανική Μάθηση\n",
        "#### 1η ατομική εργασία\n",
        "ΣΗΜΜΥ- ΕΜΠ -Ακ. Έτος 2023-24\n",
        "\n"
      ]
    },
    {
      "cell_type": "markdown",
      "metadata": {
        "id": "oAx-ib_pBrq9"
      },
      "source": [
        "Ονοματεπώνυμο φοιτητή: Παναγιώτης Μπέλσης\n",
        "\n",
        "Α.Μ.: 03120874"
      ]
    },
    {
      "cell_type": "markdown",
      "metadata": {
        "id": "ZPwdyX6lvCVt"
      },
      "source": []
    },
    {
      "cell_type": "markdown",
      "metadata": {
        "id": "M7IkqlgaGLr2"
      },
      "source": [
        "### 1. Εισαγωγή συνόλου δεδομένων\n",
        "\n",
        "Tο σύνολο δεδομένων για το training-validation μπορείτε να το κατεβάσετε από [εδώ](https://drive.google.com/file/d/1_ndkaT6BoDuxxPPxLWq-oKDJqzO1Dlhg/view?usp=sharing) .\n"
      ]
    },
    {
      "cell_type": "markdown",
      "metadata": {
        "id": "3FRF59xJxVIp"
      },
      "source": []
    },
    {
      "cell_type": "markdown",
      "metadata": {
        "id": "Qe4uFFcv9XF3"
      },
      "source": [
        "1.α. Φορτώστε το σύνολο δεδομένων \"train-val.csv\"  στο notebook σας."
      ]
    },
    {
      "cell_type": "code",
      "execution_count": 391,
      "metadata": {
        "colab": {
          "base_uri": "https://localhost:8080/",
          "height": 73
        },
        "id": "rSnHq9Ip36sd",
        "outputId": "adf4a98f-bdce-4334-9ed7-6efa1428a12d"
      },
      "outputs": [
        {
          "data": {
            "text/html": [
              "\n",
              "     <input type=\"file\" id=\"files-15213eb3-cd93-4d29-8843-ee90f82e9a7a\" name=\"files[]\" multiple disabled\n",
              "        style=\"border:none\" />\n",
              "     <output id=\"result-15213eb3-cd93-4d29-8843-ee90f82e9a7a\">\n",
              "      Upload widget is only available when the cell has been executed in the\n",
              "      current browser session. Please rerun this cell to enable.\n",
              "      </output>\n",
              "      <script>// Copyright 2017 Google LLC\n",
              "//\n",
              "// Licensed under the Apache License, Version 2.0 (the \"License\");\n",
              "// you may not use this file except in compliance with the License.\n",
              "// You may obtain a copy of the License at\n",
              "//\n",
              "//      http://www.apache.org/licenses/LICENSE-2.0\n",
              "//\n",
              "// Unless required by applicable law or agreed to in writing, software\n",
              "// distributed under the License is distributed on an \"AS IS\" BASIS,\n",
              "// WITHOUT WARRANTIES OR CONDITIONS OF ANY KIND, either express or implied.\n",
              "// See the License for the specific language governing permissions and\n",
              "// limitations under the License.\n",
              "\n",
              "/**\n",
              " * @fileoverview Helpers for google.colab Python module.\n",
              " */\n",
              "(function(scope) {\n",
              "function span(text, styleAttributes = {}) {\n",
              "  const element = document.createElement('span');\n",
              "  element.textContent = text;\n",
              "  for (const key of Object.keys(styleAttributes)) {\n",
              "    element.style[key] = styleAttributes[key];\n",
              "  }\n",
              "  return element;\n",
              "}\n",
              "\n",
              "// Max number of bytes which will be uploaded at a time.\n",
              "const MAX_PAYLOAD_SIZE = 100 * 1024;\n",
              "\n",
              "function _uploadFiles(inputId, outputId) {\n",
              "  const steps = uploadFilesStep(inputId, outputId);\n",
              "  const outputElement = document.getElementById(outputId);\n",
              "  // Cache steps on the outputElement to make it available for the next call\n",
              "  // to uploadFilesContinue from Python.\n",
              "  outputElement.steps = steps;\n",
              "\n",
              "  return _uploadFilesContinue(outputId);\n",
              "}\n",
              "\n",
              "// This is roughly an async generator (not supported in the browser yet),\n",
              "// where there are multiple asynchronous steps and the Python side is going\n",
              "// to poll for completion of each step.\n",
              "// This uses a Promise to block the python side on completion of each step,\n",
              "// then passes the result of the previous step as the input to the next step.\n",
              "function _uploadFilesContinue(outputId) {\n",
              "  const outputElement = document.getElementById(outputId);\n",
              "  const steps = outputElement.steps;\n",
              "\n",
              "  const next = steps.next(outputElement.lastPromiseValue);\n",
              "  return Promise.resolve(next.value.promise).then((value) => {\n",
              "    // Cache the last promise value to make it available to the next\n",
              "    // step of the generator.\n",
              "    outputElement.lastPromiseValue = value;\n",
              "    return next.value.response;\n",
              "  });\n",
              "}\n",
              "\n",
              "/**\n",
              " * Generator function which is called between each async step of the upload\n",
              " * process.\n",
              " * @param {string} inputId Element ID of the input file picker element.\n",
              " * @param {string} outputId Element ID of the output display.\n",
              " * @return {!Iterable<!Object>} Iterable of next steps.\n",
              " */\n",
              "function* uploadFilesStep(inputId, outputId) {\n",
              "  const inputElement = document.getElementById(inputId);\n",
              "  inputElement.disabled = false;\n",
              "\n",
              "  const outputElement = document.getElementById(outputId);\n",
              "  outputElement.innerHTML = '';\n",
              "\n",
              "  const pickedPromise = new Promise((resolve) => {\n",
              "    inputElement.addEventListener('change', (e) => {\n",
              "      resolve(e.target.files);\n",
              "    });\n",
              "  });\n",
              "\n",
              "  const cancel = document.createElement('button');\n",
              "  inputElement.parentElement.appendChild(cancel);\n",
              "  cancel.textContent = 'Cancel upload';\n",
              "  const cancelPromise = new Promise((resolve) => {\n",
              "    cancel.onclick = () => {\n",
              "      resolve(null);\n",
              "    };\n",
              "  });\n",
              "\n",
              "  // Wait for the user to pick the files.\n",
              "  const files = yield {\n",
              "    promise: Promise.race([pickedPromise, cancelPromise]),\n",
              "    response: {\n",
              "      action: 'starting',\n",
              "    }\n",
              "  };\n",
              "\n",
              "  cancel.remove();\n",
              "\n",
              "  // Disable the input element since further picks are not allowed.\n",
              "  inputElement.disabled = true;\n",
              "\n",
              "  if (!files) {\n",
              "    return {\n",
              "      response: {\n",
              "        action: 'complete',\n",
              "      }\n",
              "    };\n",
              "  }\n",
              "\n",
              "  for (const file of files) {\n",
              "    const li = document.createElement('li');\n",
              "    li.append(span(file.name, {fontWeight: 'bold'}));\n",
              "    li.append(span(\n",
              "        `(${file.type || 'n/a'}) - ${file.size} bytes, ` +\n",
              "        `last modified: ${\n",
              "            file.lastModifiedDate ? file.lastModifiedDate.toLocaleDateString() :\n",
              "                                    'n/a'} - `));\n",
              "    const percent = span('0% done');\n",
              "    li.appendChild(percent);\n",
              "\n",
              "    outputElement.appendChild(li);\n",
              "\n",
              "    const fileDataPromise = new Promise((resolve) => {\n",
              "      const reader = new FileReader();\n",
              "      reader.onload = (e) => {\n",
              "        resolve(e.target.result);\n",
              "      };\n",
              "      reader.readAsArrayBuffer(file);\n",
              "    });\n",
              "    // Wait for the data to be ready.\n",
              "    let fileData = yield {\n",
              "      promise: fileDataPromise,\n",
              "      response: {\n",
              "        action: 'continue',\n",
              "      }\n",
              "    };\n",
              "\n",
              "    // Use a chunked sending to avoid message size limits. See b/62115660.\n",
              "    let position = 0;\n",
              "    do {\n",
              "      const length = Math.min(fileData.byteLength - position, MAX_PAYLOAD_SIZE);\n",
              "      const chunk = new Uint8Array(fileData, position, length);\n",
              "      position += length;\n",
              "\n",
              "      const base64 = btoa(String.fromCharCode.apply(null, chunk));\n",
              "      yield {\n",
              "        response: {\n",
              "          action: 'append',\n",
              "          file: file.name,\n",
              "          data: base64,\n",
              "        },\n",
              "      };\n",
              "\n",
              "      let percentDone = fileData.byteLength === 0 ?\n",
              "          100 :\n",
              "          Math.round((position / fileData.byteLength) * 100);\n",
              "      percent.textContent = `${percentDone}% done`;\n",
              "\n",
              "    } while (position < fileData.byteLength);\n",
              "  }\n",
              "\n",
              "  // All done.\n",
              "  yield {\n",
              "    response: {\n",
              "      action: 'complete',\n",
              "    }\n",
              "  };\n",
              "}\n",
              "\n",
              "scope.google = scope.google || {};\n",
              "scope.google.colab = scope.google.colab || {};\n",
              "scope.google.colab._files = {\n",
              "  _uploadFiles,\n",
              "  _uploadFilesContinue,\n",
              "};\n",
              "})(self);\n",
              "</script> "
            ],
            "text/plain": [
              "<IPython.core.display.HTML object>"
            ]
          },
          "metadata": {},
          "output_type": "display_data"
        },
        {
          "name": "stdout",
          "output_type": "stream",
          "text": [
            "Saving train-val.csv to train-val (9).csv\n"
          ]
        }
      ],
      "source": [
        "from google.colab import files\n",
        "upload_file =files.upload()"
      ]
    },
    {
      "cell_type": "code",
      "execution_count": 392,
      "metadata": {
        "colab": {
          "base_uri": "https://localhost:8080/",
          "height": 342
        },
        "id": "yD-cZwzL5JHX",
        "outputId": "2f19f963-c10f-4951-b86a-944e8e0e06d5"
      },
      "outputs": [
        {
          "data": {
            "text/html": [
              "\n",
              "  <div id=\"df-5bea7fd0-afb3-4ff7-a42c-5551d0f254a7\" class=\"colab-df-container\">\n",
              "    <div>\n",
              "<style scoped>\n",
              "    .dataframe tbody tr th:only-of-type {\n",
              "        vertical-align: middle;\n",
              "    }\n",
              "\n",
              "    .dataframe tbody tr th {\n",
              "        vertical-align: top;\n",
              "    }\n",
              "\n",
              "    .dataframe thead th {\n",
              "        text-align: right;\n",
              "    }\n",
              "</style>\n",
              "<table border=\"1\" class=\"dataframe\">\n",
              "  <thead>\n",
              "    <tr style=\"text-align: right;\">\n",
              "      <th></th>\n",
              "      <th>id</th>\n",
              "      <th>Date</th>\n",
              "      <th>Location</th>\n",
              "      <th>MinTemp</th>\n",
              "      <th>MaxTemp</th>\n",
              "      <th>Rainfall</th>\n",
              "      <th>Evaporation</th>\n",
              "      <th>Sunshine</th>\n",
              "      <th>WindGustDir</th>\n",
              "      <th>WindGustSpeed</th>\n",
              "      <th>...</th>\n",
              "      <th>Humidity9am</th>\n",
              "      <th>Humidity3pm</th>\n",
              "      <th>Pressure9am</th>\n",
              "      <th>Pressure3pm</th>\n",
              "      <th>Cloud9am</th>\n",
              "      <th>Cloud3pm</th>\n",
              "      <th>Temp9am</th>\n",
              "      <th>Temp3pm</th>\n",
              "      <th>RainToday</th>\n",
              "      <th>RainTomorrow</th>\n",
              "    </tr>\n",
              "  </thead>\n",
              "  <tbody>\n",
              "    <tr>\n",
              "      <th>0</th>\n",
              "      <td>1</td>\n",
              "      <td>2009-03-04</td>\n",
              "      <td>Albury</td>\n",
              "      <td>13.8</td>\n",
              "      <td>22.1</td>\n",
              "      <td>0.2</td>\n",
              "      <td>NaN</td>\n",
              "      <td>NaN</td>\n",
              "      <td>WNW</td>\n",
              "      <td>57.0</td>\n",
              "      <td>...</td>\n",
              "      <td>57.0</td>\n",
              "      <td>26.0</td>\n",
              "      <td>1014.5</td>\n",
              "      <td>1013.1</td>\n",
              "      <td>NaN</td>\n",
              "      <td>NaN</td>\n",
              "      <td>15.6</td>\n",
              "      <td>21.9</td>\n",
              "      <td>0.0</td>\n",
              "      <td>0.0</td>\n",
              "    </tr>\n",
              "    <tr>\n",
              "      <th>1</th>\n",
              "      <td>2</td>\n",
              "      <td>2009-03-05</td>\n",
              "      <td>Albury</td>\n",
              "      <td>11.5</td>\n",
              "      <td>22.0</td>\n",
              "      <td>0.0</td>\n",
              "      <td>NaN</td>\n",
              "      <td>NaN</td>\n",
              "      <td>SW</td>\n",
              "      <td>50.0</td>\n",
              "      <td>...</td>\n",
              "      <td>60.0</td>\n",
              "      <td>33.0</td>\n",
              "      <td>1013.7</td>\n",
              "      <td>1011.8</td>\n",
              "      <td>NaN</td>\n",
              "      <td>NaN</td>\n",
              "      <td>13.9</td>\n",
              "      <td>21.4</td>\n",
              "      <td>0.0</td>\n",
              "      <td>0.0</td>\n",
              "    </tr>\n",
              "    <tr>\n",
              "      <th>2</th>\n",
              "      <td>3</td>\n",
              "      <td>2009-03-09</td>\n",
              "      <td>Albury</td>\n",
              "      <td>13.8</td>\n",
              "      <td>31.8</td>\n",
              "      <td>0.0</td>\n",
              "      <td>NaN</td>\n",
              "      <td>NaN</td>\n",
              "      <td>NNE</td>\n",
              "      <td>24.0</td>\n",
              "      <td>...</td>\n",
              "      <td>49.0</td>\n",
              "      <td>28.0</td>\n",
              "      <td>1019.7</td>\n",
              "      <td>1015.9</td>\n",
              "      <td>NaN</td>\n",
              "      <td>NaN</td>\n",
              "      <td>18.6</td>\n",
              "      <td>30.5</td>\n",
              "      <td>0.0</td>\n",
              "      <td>0.0</td>\n",
              "    </tr>\n",
              "    <tr>\n",
              "      <th>3</th>\n",
              "      <td>4</td>\n",
              "      <td>2009-03-10</td>\n",
              "      <td>Albury</td>\n",
              "      <td>15.5</td>\n",
              "      <td>32.0</td>\n",
              "      <td>0.0</td>\n",
              "      <td>NaN</td>\n",
              "      <td>NaN</td>\n",
              "      <td>NE</td>\n",
              "      <td>50.0</td>\n",
              "      <td>...</td>\n",
              "      <td>51.0</td>\n",
              "      <td>25.0</td>\n",
              "      <td>1019.5</td>\n",
              "      <td>1016.2</td>\n",
              "      <td>NaN</td>\n",
              "      <td>NaN</td>\n",
              "      <td>20.1</td>\n",
              "      <td>30.8</td>\n",
              "      <td>0.0</td>\n",
              "      <td>1.0</td>\n",
              "    </tr>\n",
              "    <tr>\n",
              "      <th>4</th>\n",
              "      <td>5</td>\n",
              "      <td>2009-03-11</td>\n",
              "      <td>Albury</td>\n",
              "      <td>18.4</td>\n",
              "      <td>30.5</td>\n",
              "      <td>1.2</td>\n",
              "      <td>NaN</td>\n",
              "      <td>NaN</td>\n",
              "      <td>NE</td>\n",
              "      <td>44.0</td>\n",
              "      <td>...</td>\n",
              "      <td>57.0</td>\n",
              "      <td>23.0</td>\n",
              "      <td>1021.3</td>\n",
              "      <td>1018.0</td>\n",
              "      <td>NaN</td>\n",
              "      <td>NaN</td>\n",
              "      <td>21.5</td>\n",
              "      <td>29.6</td>\n",
              "      <td>1.0</td>\n",
              "      <td>0.0</td>\n",
              "    </tr>\n",
              "  </tbody>\n",
              "</table>\n",
              "<p>5 rows × 24 columns</p>\n",
              "</div>\n",
              "    <div class=\"colab-df-buttons\">\n",
              "\n",
              "  <div class=\"colab-df-container\">\n",
              "    <button class=\"colab-df-convert\" onclick=\"convertToInteractive('df-5bea7fd0-afb3-4ff7-a42c-5551d0f254a7')\"\n",
              "            title=\"Convert this dataframe to an interactive table.\"\n",
              "            style=\"display:none;\">\n",
              "\n",
              "  <svg xmlns=\"http://www.w3.org/2000/svg\" height=\"24px\" viewBox=\"0 -960 960 960\">\n",
              "    <path d=\"M120-120v-720h720v720H120Zm60-500h600v-160H180v160Zm220 220h160v-160H400v160Zm0 220h160v-160H400v160ZM180-400h160v-160H180v160Zm440 0h160v-160H620v160ZM180-180h160v-160H180v160Zm440 0h160v-160H620v160Z\"/>\n",
              "  </svg>\n",
              "    </button>\n",
              "\n",
              "  <style>\n",
              "    .colab-df-container {\n",
              "      display:flex;\n",
              "      gap: 12px;\n",
              "    }\n",
              "\n",
              "    .colab-df-convert {\n",
              "      background-color: #E8F0FE;\n",
              "      border: none;\n",
              "      border-radius: 50%;\n",
              "      cursor: pointer;\n",
              "      display: none;\n",
              "      fill: #1967D2;\n",
              "      height: 32px;\n",
              "      padding: 0 0 0 0;\n",
              "      width: 32px;\n",
              "    }\n",
              "\n",
              "    .colab-df-convert:hover {\n",
              "      background-color: #E2EBFA;\n",
              "      box-shadow: 0px 1px 2px rgba(60, 64, 67, 0.3), 0px 1px 3px 1px rgba(60, 64, 67, 0.15);\n",
              "      fill: #174EA6;\n",
              "    }\n",
              "\n",
              "    .colab-df-buttons div {\n",
              "      margin-bottom: 4px;\n",
              "    }\n",
              "\n",
              "    [theme=dark] .colab-df-convert {\n",
              "      background-color: #3B4455;\n",
              "      fill: #D2E3FC;\n",
              "    }\n",
              "\n",
              "    [theme=dark] .colab-df-convert:hover {\n",
              "      background-color: #434B5C;\n",
              "      box-shadow: 0px 1px 3px 1px rgba(0, 0, 0, 0.15);\n",
              "      filter: drop-shadow(0px 1px 2px rgba(0, 0, 0, 0.3));\n",
              "      fill: #FFFFFF;\n",
              "    }\n",
              "  </style>\n",
              "\n",
              "    <script>\n",
              "      const buttonEl =\n",
              "        document.querySelector('#df-5bea7fd0-afb3-4ff7-a42c-5551d0f254a7 button.colab-df-convert');\n",
              "      buttonEl.style.display =\n",
              "        google.colab.kernel.accessAllowed ? 'block' : 'none';\n",
              "\n",
              "      async function convertToInteractive(key) {\n",
              "        const element = document.querySelector('#df-5bea7fd0-afb3-4ff7-a42c-5551d0f254a7');\n",
              "        const dataTable =\n",
              "          await google.colab.kernel.invokeFunction('convertToInteractive',\n",
              "                                                    [key], {});\n",
              "        if (!dataTable) return;\n",
              "\n",
              "        const docLinkHtml = 'Like what you see? Visit the ' +\n",
              "          '<a target=\"_blank\" href=https://colab.research.google.com/notebooks/data_table.ipynb>data table notebook</a>'\n",
              "          + ' to learn more about interactive tables.';\n",
              "        element.innerHTML = '';\n",
              "        dataTable['output_type'] = 'display_data';\n",
              "        await google.colab.output.renderOutput(dataTable, element);\n",
              "        const docLink = document.createElement('div');\n",
              "        docLink.innerHTML = docLinkHtml;\n",
              "        element.appendChild(docLink);\n",
              "      }\n",
              "    </script>\n",
              "  </div>\n",
              "\n",
              "\n",
              "<div id=\"df-47f3ef2f-fce4-4877-ac29-331081dc4075\">\n",
              "  <button class=\"colab-df-quickchart\" onclick=\"quickchart('df-47f3ef2f-fce4-4877-ac29-331081dc4075')\"\n",
              "            title=\"Suggest charts\"\n",
              "            style=\"display:none;\">\n",
              "\n",
              "<svg xmlns=\"http://www.w3.org/2000/svg\" height=\"24px\"viewBox=\"0 0 24 24\"\n",
              "     width=\"24px\">\n",
              "    <g>\n",
              "        <path d=\"M19 3H5c-1.1 0-2 .9-2 2v14c0 1.1.9 2 2 2h14c1.1 0 2-.9 2-2V5c0-1.1-.9-2-2-2zM9 17H7v-7h2v7zm4 0h-2V7h2v10zm4 0h-2v-4h2v4z\"/>\n",
              "    </g>\n",
              "</svg>\n",
              "  </button>\n",
              "\n",
              "<style>\n",
              "  .colab-df-quickchart {\n",
              "      --bg-color: #E8F0FE;\n",
              "      --fill-color: #1967D2;\n",
              "      --hover-bg-color: #E2EBFA;\n",
              "      --hover-fill-color: #174EA6;\n",
              "      --disabled-fill-color: #AAA;\n",
              "      --disabled-bg-color: #DDD;\n",
              "  }\n",
              "\n",
              "  [theme=dark] .colab-df-quickchart {\n",
              "      --bg-color: #3B4455;\n",
              "      --fill-color: #D2E3FC;\n",
              "      --hover-bg-color: #434B5C;\n",
              "      --hover-fill-color: #FFFFFF;\n",
              "      --disabled-bg-color: #3B4455;\n",
              "      --disabled-fill-color: #666;\n",
              "  }\n",
              "\n",
              "  .colab-df-quickchart {\n",
              "    background-color: var(--bg-color);\n",
              "    border: none;\n",
              "    border-radius: 50%;\n",
              "    cursor: pointer;\n",
              "    display: none;\n",
              "    fill: var(--fill-color);\n",
              "    height: 32px;\n",
              "    padding: 0;\n",
              "    width: 32px;\n",
              "  }\n",
              "\n",
              "  .colab-df-quickchart:hover {\n",
              "    background-color: var(--hover-bg-color);\n",
              "    box-shadow: 0 1px 2px rgba(60, 64, 67, 0.3), 0 1px 3px 1px rgba(60, 64, 67, 0.15);\n",
              "    fill: var(--button-hover-fill-color);\n",
              "  }\n",
              "\n",
              "  .colab-df-quickchart-complete:disabled,\n",
              "  .colab-df-quickchart-complete:disabled:hover {\n",
              "    background-color: var(--disabled-bg-color);\n",
              "    fill: var(--disabled-fill-color);\n",
              "    box-shadow: none;\n",
              "  }\n",
              "\n",
              "  .colab-df-spinner {\n",
              "    border: 2px solid var(--fill-color);\n",
              "    border-color: transparent;\n",
              "    border-bottom-color: var(--fill-color);\n",
              "    animation:\n",
              "      spin 1s steps(1) infinite;\n",
              "  }\n",
              "\n",
              "  @keyframes spin {\n",
              "    0% {\n",
              "      border-color: transparent;\n",
              "      border-bottom-color: var(--fill-color);\n",
              "      border-left-color: var(--fill-color);\n",
              "    }\n",
              "    20% {\n",
              "      border-color: transparent;\n",
              "      border-left-color: var(--fill-color);\n",
              "      border-top-color: var(--fill-color);\n",
              "    }\n",
              "    30% {\n",
              "      border-color: transparent;\n",
              "      border-left-color: var(--fill-color);\n",
              "      border-top-color: var(--fill-color);\n",
              "      border-right-color: var(--fill-color);\n",
              "    }\n",
              "    40% {\n",
              "      border-color: transparent;\n",
              "      border-right-color: var(--fill-color);\n",
              "      border-top-color: var(--fill-color);\n",
              "    }\n",
              "    60% {\n",
              "      border-color: transparent;\n",
              "      border-right-color: var(--fill-color);\n",
              "    }\n",
              "    80% {\n",
              "      border-color: transparent;\n",
              "      border-right-color: var(--fill-color);\n",
              "      border-bottom-color: var(--fill-color);\n",
              "    }\n",
              "    90% {\n",
              "      border-color: transparent;\n",
              "      border-bottom-color: var(--fill-color);\n",
              "    }\n",
              "  }\n",
              "</style>\n",
              "\n",
              "  <script>\n",
              "    async function quickchart(key) {\n",
              "      const quickchartButtonEl =\n",
              "        document.querySelector('#' + key + ' button');\n",
              "      quickchartButtonEl.disabled = true;  // To prevent multiple clicks.\n",
              "      quickchartButtonEl.classList.add('colab-df-spinner');\n",
              "      try {\n",
              "        const charts = await google.colab.kernel.invokeFunction(\n",
              "            'suggestCharts', [key], {});\n",
              "      } catch (error) {\n",
              "        console.error('Error during call to suggestCharts:', error);\n",
              "      }\n",
              "      quickchartButtonEl.classList.remove('colab-df-spinner');\n",
              "      quickchartButtonEl.classList.add('colab-df-quickchart-complete');\n",
              "    }\n",
              "    (() => {\n",
              "      let quickchartButtonEl =\n",
              "        document.querySelector('#df-47f3ef2f-fce4-4877-ac29-331081dc4075 button');\n",
              "      quickchartButtonEl.style.display =\n",
              "        google.colab.kernel.accessAllowed ? 'block' : 'none';\n",
              "    })();\n",
              "  </script>\n",
              "</div>\n",
              "    </div>\n",
              "  </div>\n"
            ],
            "text/plain": [
              "   id        Date Location  MinTemp  MaxTemp  Rainfall  Evaporation  Sunshine  \\\n",
              "0   1  2009-03-04   Albury     13.8     22.1       0.2          NaN       NaN   \n",
              "1   2  2009-03-05   Albury     11.5     22.0       0.0          NaN       NaN   \n",
              "2   3  2009-03-09   Albury     13.8     31.8       0.0          NaN       NaN   \n",
              "3   4  2009-03-10   Albury     15.5     32.0       0.0          NaN       NaN   \n",
              "4   5  2009-03-11   Albury     18.4     30.5       1.2          NaN       NaN   \n",
              "\n",
              "  WindGustDir  WindGustSpeed  ... Humidity9am Humidity3pm  Pressure9am  \\\n",
              "0         WNW           57.0  ...        57.0        26.0       1014.5   \n",
              "1          SW           50.0  ...        60.0        33.0       1013.7   \n",
              "2         NNE           24.0  ...        49.0        28.0       1019.7   \n",
              "3          NE           50.0  ...        51.0        25.0       1019.5   \n",
              "4          NE           44.0  ...        57.0        23.0       1021.3   \n",
              "\n",
              "   Pressure3pm  Cloud9am  Cloud3pm  Temp9am  Temp3pm  RainToday  RainTomorrow  \n",
              "0       1013.1       NaN       NaN     15.6     21.9        0.0           0.0  \n",
              "1       1011.8       NaN       NaN     13.9     21.4        0.0           0.0  \n",
              "2       1015.9       NaN       NaN     18.6     30.5        0.0           0.0  \n",
              "3       1016.2       NaN       NaN     20.1     30.8        0.0           1.0  \n",
              "4       1018.0       NaN       NaN     21.5     29.6        1.0           0.0  \n",
              "\n",
              "[5 rows x 24 columns]"
            ]
          },
          "execution_count": 392,
          "metadata": {},
          "output_type": "execute_result"
        }
      ],
      "source": [
        "import pandas as pd\n",
        "import io\n",
        "\n",
        "df = pd.read_csv('train-val.csv')\n",
        "df.head()"
      ]
    },
    {
      "cell_type": "markdown",
      "metadata": {
        "id": "wrxF1hO1HPpJ"
      },
      "source": [
        "### 2. Διερευνητική ανάλυση δεδομένων -Exploratory Data Analysis (EDA)\n",
        "Χρησιμοποιήστε code cells  με τις κατάλληλες τεχνικές EDA για την κατανόηση του συνόλου δεδομένων και text cells για επεξήγηση των αποτελεσμάτων."
      ]
    },
    {
      "cell_type": "markdown",
      "metadata": {
        "id": "fT33H0HPJ7Hg"
      },
      "source": [
        "Χρησιμοποιώντας τις κατάλληλες μεθόδους παρουσιάστε με χρήση κώδικα πληροφορίες για τα εξής:\n",
        "\n",
        "2α. το πλήθος των δειγμάτων και των χαρακτηριστικών του συνόλου δεδομένων,\n",
        "\n",
        "2β. το είδος των χαρακτηριστικών του συνόλου δεδομένων,  \n",
        "\n",
        "2γ. τις ετικέτες των χαρακτηριστικών,\n",
        "\n",
        "2δ. το πλήθος των κατηγοριών,\n",
        "\n",
        "2ε. πόσα δείγματα ανήκουν σε κάθε κατηγορία,\n",
        "\n",
        "2στ. τη συσχέτιση μεταξύ των δεδομένων,\n",
        "\n",
        "2ζ. οποιαδήποτε άλλη πληροφορία πιστεύετε ότι είναι χρήσιμη για την κατανόηση του συνόλου δεδομένων."
      ]
    },
    {
      "cell_type": "code",
      "execution_count": 393,
      "metadata": {
        "colab": {
          "base_uri": "https://localhost:8080/"
        },
        "id": "dnd0K49PNK1T",
        "outputId": "0816dfee-4273-4b30-ebb6-8dfd956de5ca"
      },
      "outputs": [
        {
          "name": "stdout",
          "output_type": "stream",
          "text": [
            "Number of Samples: 48423\n",
            "Number of features: 24\n"
          ]
        }
      ],
      "source": [
        "#2α\n",
        "samples, features = df.shape\n",
        "print(f\"Number of Samples: {samples}\")\n",
        "print(f\"Number of features: {features}\")"
      ]
    },
    {
      "cell_type": "code",
      "execution_count": 394,
      "metadata": {
        "colab": {
          "base_uri": "https://localhost:8080/"
        },
        "id": "KRrGAcVr6s6z",
        "outputId": "e9913fb1-cfd2-46af-8085-5582f01c8779"
      },
      "outputs": [
        {
          "name": "stdout",
          "output_type": "stream",
          "text": [
            "id                 int64\n",
            "Date              object\n",
            "Location          object\n",
            "MinTemp          float64\n",
            "MaxTemp          float64\n",
            "Rainfall         float64\n",
            "Evaporation      float64\n",
            "Sunshine         float64\n",
            "WindGustDir       object\n",
            "WindGustSpeed    float64\n",
            "WindDir9am        object\n",
            "WindDir3pm        object\n",
            "WindSpeed9am     float64\n",
            "WindSpeed3pm     float64\n",
            "Humidity9am      float64\n",
            "Humidity3pm      float64\n",
            "Pressure9am      float64\n",
            "Pressure3pm      float64\n",
            "Cloud9am         float64\n",
            "Cloud3pm         float64\n",
            "Temp9am          float64\n",
            "Temp3pm          float64\n",
            "RainToday        float64\n",
            "RainTomorrow     float64\n",
            "dtype: object\n"
          ]
        }
      ],
      "source": [
        "#2β\n",
        "data_types = df.dtypes\n",
        "print(data_types)"
      ]
    },
    {
      "cell_type": "code",
      "execution_count": 395,
      "metadata": {
        "colab": {
          "base_uri": "https://localhost:8080/"
        },
        "id": "56ONMjTK8Gtk",
        "outputId": "a584b1c3-82a1-4b6e-fb49-cbd46252219b"
      },
      "outputs": [
        {
          "name": "stdout",
          "output_type": "stream",
          "text": [
            "['id', 'Date', 'Location', 'MinTemp', 'MaxTemp', 'Rainfall', 'Evaporation', 'Sunshine', 'WindGustDir', 'WindGustSpeed', 'WindDir9am', 'WindDir3pm', 'WindSpeed9am', 'WindSpeed3pm', 'Humidity9am', 'Humidity3pm', 'Pressure9am', 'Pressure3pm', 'Cloud9am', 'Cloud3pm', 'Temp9am', 'Temp3pm', 'RainToday', 'RainTomorrow']\n"
          ]
        }
      ],
      "source": [
        "#2γ\n",
        "column_labels = df.columns.tolist()\n",
        "print(column_labels)"
      ]
    },
    {
      "cell_type": "code",
      "execution_count": 396,
      "metadata": {
        "colab": {
          "base_uri": "https://localhost:8080/"
        },
        "id": "5wrtU4Wh8buq",
        "outputId": "8768027c-bfbd-4c66-c682-394be154b282"
      },
      "outputs": [
        {
          "name": "stdout",
          "output_type": "stream",
          "text": [
            "Number of categories: 49\n"
          ]
        }
      ],
      "source": [
        "#2δ\n",
        "num_categories = df['Location'].nunique()\n",
        "print(f\"Number of categories: {num_categories}\")"
      ]
    },
    {
      "cell_type": "code",
      "execution_count": 397,
      "metadata": {
        "colab": {
          "base_uri": "https://localhost:8080/"
        },
        "id": "L4amXfYOCAQw",
        "outputId": "b3b04ce5-57b0-4253-f764-d03799b5d9c0"
      },
      "outputs": [
        {
          "name": "stdout",
          "output_type": "stream",
          "text": [
            "Sydney              1145\n",
            "Canberra            1136\n",
            "Darwin              1107\n",
            "Perth               1104\n",
            "MelbourneAirport    1099\n",
            "Brisbane            1098\n",
            "Hobart              1096\n",
            "Adelaide            1064\n",
            "Sale                1054\n",
            "MountGambier        1053\n",
            "Mildura             1048\n",
            "CoffsHarbour        1046\n",
            "PerthAirport        1044\n",
            "Woomera             1044\n",
            "Bendigo             1042\n",
            "Cobar               1038\n",
            "Wollongong          1034\n",
            "Cairns              1032\n",
            "SalmonGums          1031\n",
            "Townsville          1027\n",
            "Portland            1022\n",
            "Penrith             1021\n",
            "Dartmoor            1021\n",
            "Watsonia            1021\n",
            "SydneyAirport       1017\n",
            "Ballarat            1014\n",
            "WaggaWagga          1013\n",
            "Launceston          1011\n",
            "Newcastle           1007\n",
            "Witchcliffe         1004\n",
            "AliceSprings        1004\n",
            "Nuriootpa           1004\n",
            "Albany               999\n",
            "Tuggeranong          993\n",
            "NorahHead            991\n",
            "GoldCoast            987\n",
            "Albury               985\n",
            "Richmond             983\n",
            "NorfolkIsland        981\n",
            "BadgerysCreek        981\n",
            "MountGinini          971\n",
            "Moree                957\n",
            "Walpole              904\n",
            "PearceRAAF           881\n",
            "Melbourne            848\n",
            "Williamtown          821\n",
            "Katherine            579\n",
            "Nhil                 559\n",
            "Uluru                502\n",
            "Name: Location, dtype: int64\n"
          ]
        }
      ],
      "source": [
        "#2ε\n",
        "samples_per_category = df['Location'].value_counts()\n",
        "print(samples_per_category)"
      ]
    },
    {
      "cell_type": "code",
      "execution_count": 398,
      "metadata": {
        "colab": {
          "base_uri": "https://localhost:8080/"
        },
        "id": "SkHqQdi3CTaK",
        "outputId": "689a4bc7-3e01-43fe-d953-e8af8765fec0"
      },
      "outputs": [
        {
          "name": "stdout",
          "output_type": "stream",
          "text": [
            "                     id   MinTemp   MaxTemp  Rainfall  Evaporation  Sunshine  \\\n",
            "id             1.000000  0.104771  0.136331 -0.024047     0.096221  0.078911   \n",
            "MinTemp        0.104771  1.000000  0.715692  0.096510     0.457483  0.053477   \n",
            "MaxTemp        0.136331  0.715692  1.000000 -0.103864     0.586798  0.469859   \n",
            "Rainfall      -0.024047  0.096510 -0.103864  1.000000    -0.069284 -0.210261   \n",
            "Evaporation    0.096221  0.457483  0.586798 -0.069284     1.000000  0.351482   \n",
            "Sunshine       0.078911  0.053477  0.469859 -0.210261     0.351482  1.000000   \n",
            "WindGustSpeed  0.047488  0.163349  0.013580  0.160382     0.194751 -0.051283   \n",
            "WindSpeed9am   0.062482  0.193476  0.003229  0.102262     0.208774 -0.001514   \n",
            "WindSpeed3pm   0.040819  0.183079  0.054409  0.068231     0.154487  0.055941   \n",
            "Humidity9am   -0.129400 -0.232420 -0.485241  0.217506    -0.521304 -0.471021   \n",
            "Humidity3pm   -0.085483  0.021193 -0.504320  0.258283    -0.392778 -0.634892   \n",
            "Pressure9am   -0.104157 -0.372295 -0.224734 -0.178761    -0.226294  0.078309   \n",
            "Pressure3pm   -0.108251 -0.385832 -0.331614 -0.125762    -0.261228  0.010106   \n",
            "Cloud9am      -0.073085  0.071455 -0.304386  0.202290    -0.188185 -0.693561   \n",
            "Cloud3pm      -0.066481  0.006876 -0.305659  0.162473    -0.193911 -0.708928   \n",
            "Temp9am        0.139226  0.892621  0.881130 -0.007844     0.556079  0.286368   \n",
            "Temp3pm        0.120342  0.682041  0.984609 -0.108617     0.569842  0.492766   \n",
            "RainToday     -0.003840  0.065077 -0.247060  0.527639    -0.191368 -0.314345   \n",
            "RainTomorrow  -0.002691  0.084001 -0.177480  0.244867    -0.122146 -0.437883   \n",
            "\n",
            "               WindGustSpeed  WindSpeed9am  WindSpeed3pm  Humidity9am  \\\n",
            "id                  0.047488      0.062482      0.040819    -0.129400   \n",
            "MinTemp             0.163349      0.193476      0.183079    -0.232420   \n",
            "MaxTemp             0.013580      0.003229      0.054409    -0.485241   \n",
            "Rainfall            0.160382      0.102262      0.068231     0.217506   \n",
            "Evaporation         0.194751      0.208774      0.154487    -0.521304   \n",
            "Sunshine           -0.051283     -0.001514      0.055941    -0.471021   \n",
            "WindGustSpeed       1.000000      0.633542      0.715518    -0.214060   \n",
            "WindSpeed9am        0.633542      1.000000      0.541097    -0.289202   \n",
            "WindSpeed3pm        0.715518      0.541097      1.000000    -0.166434   \n",
            "Humidity9am        -0.214060     -0.289202     -0.166434     1.000000   \n",
            "Humidity3pm         0.004057     -0.019900     -0.003281     0.644709   \n",
            "Pressure9am        -0.485376     -0.266217     -0.327326     0.117477   \n",
            "Pressure3pm        -0.434426     -0.212422     -0.289712     0.167571   \n",
            "Cloud9am            0.086327      0.035081      0.048956     0.439629   \n",
            "Cloud3pm            0.125622      0.066148      0.032267     0.349397   \n",
            "Temp9am             0.123985      0.141875      0.169477    -0.472335   \n",
            "Temp3pm            -0.024427     -0.008063      0.030884    -0.478217   \n",
            "RainToday           0.188300      0.121898      0.097368     0.332583   \n",
            "RainTomorrow        0.258618      0.118477      0.109116     0.244048   \n",
            "\n",
            "               Humidity3pm  Pressure9am  Pressure3pm  Cloud9am  Cloud3pm  \\\n",
            "id               -0.085483    -0.104157    -0.108251 -0.073085 -0.066481   \n",
            "MinTemp           0.021193    -0.372295    -0.385832  0.071455  0.006876   \n",
            "MaxTemp          -0.504320    -0.224734    -0.331614 -0.304386 -0.305659   \n",
            "Rainfall          0.258283    -0.178761    -0.125762  0.202290  0.162473   \n",
            "Evaporation      -0.392778    -0.226294    -0.261228 -0.188185 -0.193911   \n",
            "Sunshine         -0.634892     0.078309     0.010106 -0.693561 -0.708928   \n",
            "WindGustSpeed     0.004057    -0.485376    -0.434426  0.086327  0.125622   \n",
            "WindSpeed9am     -0.019900    -0.266217    -0.212422  0.035081  0.066148   \n",
            "WindSpeed3pm     -0.003281    -0.327326    -0.289712  0.048956  0.032267   \n",
            "Humidity9am       0.644709     0.117477     0.167571  0.439629  0.349397   \n",
            "Humidity3pm       1.000000    -0.063572     0.019297  0.518187  0.536139   \n",
            "Pressure9am      -0.063572     1.000000     0.959218 -0.135572 -0.150569   \n",
            "Pressure3pm       0.019297     0.959218     1.000000 -0.065816 -0.082215   \n",
            "Cloud9am          0.518187    -0.135572    -0.065816  1.000000  0.609241   \n",
            "Cloud3pm          0.536139    -0.150569    -0.082215  0.609241  1.000000   \n",
            "Temp9am          -0.218612    -0.331612    -0.386751 -0.151065 -0.152008   \n",
            "Temp3pm          -0.556450    -0.175755    -0.289701 -0.315585 -0.347408   \n",
            "RainToday         0.375488    -0.216675    -0.121562  0.306448  0.262506   \n",
            "RainTomorrow      0.458234    -0.273063    -0.247978  0.322673  0.381305   \n",
            "\n",
            "                Temp9am   Temp3pm  RainToday  RainTomorrow  \n",
            "id             0.139226  0.120342  -0.003840     -0.002691  \n",
            "MinTemp        0.892621  0.682041   0.065077      0.084001  \n",
            "MaxTemp        0.881130  0.984609  -0.247060     -0.177480  \n",
            "Rainfall      -0.007844 -0.108617   0.527639      0.244867  \n",
            "Evaporation    0.556079  0.569842  -0.191368     -0.122146  \n",
            "Sunshine       0.286368  0.492766  -0.314345     -0.437883  \n",
            "WindGustSpeed  0.123985 -0.024427   0.188300      0.258618  \n",
            "WindSpeed9am   0.141875 -0.008063   0.121898      0.118477  \n",
            "WindSpeed3pm   0.169477  0.030884   0.097368      0.109116  \n",
            "Humidity9am   -0.472335 -0.478217   0.332583      0.244048  \n",
            "Humidity3pm   -0.218612 -0.556450   0.375488      0.458234  \n",
            "Pressure9am   -0.331612 -0.175755  -0.216675     -0.273063  \n",
            "Pressure3pm   -0.386751 -0.289701  -0.121562     -0.247978  \n",
            "Cloud9am      -0.151065 -0.315585   0.306448      0.322673  \n",
            "Cloud3pm      -0.152008 -0.347408   0.262506      0.381305  \n",
            "Temp9am        1.000000  0.850474  -0.100329     -0.034741  \n",
            "Temp3pm        0.850474  1.000000  -0.253352     -0.211749  \n",
            "RainToday     -0.100329 -0.253352   1.000000      0.314222  \n",
            "RainTomorrow  -0.034741 -0.211749   0.314222      1.000000  \n"
          ]
        },
        {
          "name": "stderr",
          "output_type": "stream",
          "text": [
            "<ipython-input-398-c1b0f1dd4f4e>:2: FutureWarning: The default value of numeric_only in DataFrame.corr is deprecated. In a future version, it will default to False. Select only valid columns or specify the value of numeric_only to silence this warning.\n",
            "  correlation_matrix = df.corr()\n"
          ]
        }
      ],
      "source": [
        "#2στ\n",
        "correlation_matrix = df.corr()\n",
        "print(correlation_matrix)"
      ]
    },
    {
      "cell_type": "code",
      "execution_count": 399,
      "metadata": {
        "colab": {
          "base_uri": "https://localhost:8080/"
        },
        "id": "gJS6mvC6G35O",
        "outputId": "49a9d04a-b020-43e9-8d23-8bc4ced3b07e"
      },
      "outputs": [
        {
          "name": "stdout",
          "output_type": "stream",
          "text": [
            "\n",
            "Missing values per feature:\n",
            "id                   0\n",
            "Date                 0\n",
            "Location             0\n",
            "MinTemp            160\n",
            "MaxTemp            101\n",
            "Rainfall             0\n",
            "Evaporation      20384\n",
            "Sunshine         22997\n",
            "WindGustDir       3121\n",
            "WindGustSpeed     3093\n",
            "WindDir9am        3821\n",
            "WindDir3pm        1328\n",
            "WindSpeed9am       357\n",
            "WindSpeed3pm       857\n",
            "Humidity9am        558\n",
            "Humidity3pm       1259\n",
            "Pressure9am       4780\n",
            "Pressure3pm       4789\n",
            "Cloud9am         17890\n",
            "Cloud3pm         18981\n",
            "Temp9am            226\n",
            "Temp3pm            913\n",
            "RainToday            0\n",
            "RainTomorrow         0\n",
            "dtype: int64\n"
          ]
        }
      ],
      "source": [
        "#2ζ\n",
        "missing_values = df.isnull().sum()\n",
        "print(\"\\nMissing values per feature:\")\n",
        "print(missing_values)"
      ]
    },
    {
      "cell_type": "markdown",
      "metadata": {
        "id": "EbK3in0hNMeI"
      },
      "source": [
        "### 3. Προεπεξεργασία συνόλου δεδομένων\n",
        "\n",
        "*   Στοιχείο λίστας\n",
        "*   Στοιχείο λίστας\n",
        "\n",
        "\n",
        "💡`Χρησιμοποιήστε το Column Transformer για τη δημιουργία και την εφαρμογή χωριστών μετασχηματιστών για αριθμητικά και κατηγορικά δεδομένα.`\n",
        "\n",
        "\n"
      ]
    },
    {
      "cell_type": "markdown",
      "metadata": {
        "id": "mKsQVCnLQZ30"
      },
      "source": [
        "3.α.  Θα χρησιμοποιήσετε όλα τα χαρακτηριστικά του συνόλου δεδομένων για την εκπαίδευση των ταξινομητών ή θα επιλέξετε κάποια από αυτά;  Θα κάνετε κάποια συνένωση κάποιων χαρακτηριστικών για δημιουργία νέων χαρακτηριστικών για το μοντέλο σας;\n"
      ]
    },
    {
      "cell_type": "code",
      "execution_count": 400,
      "metadata": {
        "id": "Eqb25dcKNMvg"
      },
      "outputs": [],
      "source": [
        "#df['Date'] = pd.to_datetime(df['Date']) #\n",
        "#df['Month'] = df['Date'].dt.month # kaname correlation_matrix gia to month kai den ephrreaze shmantika to Raintomorrow, opote kaname drop\n",
        "df.drop(['id','MinTemp','Temp9am','Date'], axis=1, inplace=True) # η συσχετιση σε σχεση με το RainTomorrow ειναι πολυ μικρη\n",
        "df['AvgMaxTemp'] = df[['MaxTemp', 'Temp3pm']].mean(axis=1) # κανω συνενωση το average των MaxTemp και Temp3pm\n",
        "df.drop(['MaxTemp','Temp3pm'], axis=1, inplace=True) # σβηνω τα Temp3pm, MaxTemp, αρα μενει μονο το AvgMaxTemp\n",
        "#df.info()\n"
      ]
    },
    {
      "cell_type": "code",
      "execution_count": 401,
      "metadata": {
        "colab": {
          "base_uri": "https://localhost:8080/"
        },
        "id": "b7K5yC9Nbu_V",
        "outputId": "833b0b73-5109-462f-beb4-1e9b8e0b55f5"
      },
      "outputs": [
        {
          "name": "stdout",
          "output_type": "stream",
          "text": [
            "\n",
            "Missing values per feature:\n",
            "Location             0\n",
            "Rainfall             0\n",
            "Evaporation      20384\n",
            "Sunshine         22997\n",
            "WindGustDir       3121\n",
            "WindGustSpeed     3093\n",
            "WindDir9am        3821\n",
            "WindDir3pm        1328\n",
            "WindSpeed9am       357\n",
            "WindSpeed3pm       857\n",
            "Humidity9am        558\n",
            "Humidity3pm       1259\n",
            "Pressure9am       4780\n",
            "Pressure3pm       4789\n",
            "Cloud9am         17890\n",
            "Cloud3pm         18981\n",
            "RainToday            0\n",
            "RainTomorrow         0\n",
            "AvgMaxTemp          56\n",
            "dtype: int64\n"
          ]
        }
      ],
      "source": [
        "missing_values = df.isnull().sum()\n",
        "print(\"\\nMissing values per feature:\")\n",
        "print(missing_values)"
      ]
    },
    {
      "cell_type": "markdown",
      "metadata": {
        "id": "GPCa3SklNmBe"
      },
      "source": [
        "3.β. Υπάρχουν απουσιάζουσες τιμές; Γράψτε κατάλληλο κώδικα ώστε να χειριστείτε αυτές τις τιμές."
      ]
    },
    {
      "cell_type": "code",
      "execution_count": 402,
      "metadata": {
        "id": "1e_E53VJN8a2"
      },
      "outputs": [],
      "source": [
        "from sklearn.compose import ColumnTransformer\n",
        "from sklearn.impute import SimpleImputer\n",
        "from sklearn.preprocessing import OneHotEncoder\n",
        "from sklearn.preprocessing import StandardScaler\n",
        "from sklearn.pipeline import Pipeline\n",
        "from sklearn.feature_selection import SelectKBest, chi2\n",
        "\n",
        "# handle numeric features\n",
        "numeric_features = df.select_dtypes(include=['number']).columns\n",
        "numeric_features = numeric_features.drop(['RainToday', 'RainTomorrow'])\n",
        "\n",
        "numeric_transformer = Pipeline(steps=[\n",
        "    ('imputer', SimpleImputer(strategy='median')) # ftiaxnw ta missing values me ton median\n",
        "    ,('scaler', StandardScaler())])               # 3.δ) κλιμάκωση (κανονικοποιηση σε κλιμακα 0-1)\n",
        "\n",
        "# handle categorical features\n",
        "categorical_features = df.select_dtypes(include=['object']).columns\n",
        "categorical_transformer = Pipeline(steps=[\n",
        "    ('imputer', SimpleImputer(strategy='most_frequent')), # 3.β) ii) απουσιάζουσες τιμές\n",
        "    ('scaler', OneHotEncoder(handle_unknown='ignore'))])  # 3.γ) μετατροπή των κατηγορικών μεταβλητών\n",
        "\n",
        "# Create a transformer\n",
        "preprocessor = ColumnTransformer( # 3.ε)δημιουργία και εφαρμογή χωριστών μετασχηματιστών\n",
        "    transformers=[\n",
        "        ('num', numeric_transformer, numeric_features), #αριθμητικά\n",
        "        ('cat', categorical_transformer, categorical_features)]#κατηγορικά δεδομένα\n",
        "        , remainder='passthrough'  #για features που δεν προσδιοριζονται\n",
        "    )\n",
        "\n",
        "# Fit and transform the data\n",
        "df_transformed = preprocessor.fit_transform(df) # 3.ε)\n",
        "#το df_transformed περιέχει τα μετασχηματισμένα δεδομένα\n",
        "\n",
        "feature_names = preprocessor.get_feature_names_out()# βλεπουμε τα αρχικα ονοματα των columns στο csv\n",
        "\n",
        "# Convert the sparse matrix to a DataFrame\n",
        "df_transformed_dense = pd.DataFrame(df_transformed.toarray(), columns=feature_names) # 3.ε)\n"
      ]
    },
    {
      "cell_type": "markdown",
      "metadata": {
        "id": "ZRq1eHYfNoEO"
      },
      "source": [
        "3.γ. Γράψτε κώδικα για την κατάλληλη μετατροπή των κατηγορικών μεταβλητών ώστε να μπορούν να τους διαχειριστούν οι ταξινομητές που θα χρησιμοποιήσετε."
      ]
    },
    {
      "cell_type": "code",
      "execution_count": 403,
      "metadata": {
        "id": "NxRunryNQiXa"
      },
      "outputs": [],
      "source": [
        "#βλ 3β"
      ]
    },
    {
      "cell_type": "markdown",
      "metadata": {
        "id": "KWsb4KQmQiFc"
      },
      "source": [
        "3.δ. Γράψτε κώδικα για την κλιμάκωση των χαρακτηριστικών, αν την θεωρείτε απαραίτητη"
      ]
    },
    {
      "cell_type": "code",
      "execution_count": 404,
      "metadata": {
        "id": "EXkL_EFfNom-"
      },
      "outputs": [],
      "source": [
        "#βλ 3β"
      ]
    },
    {
      "cell_type": "markdown",
      "metadata": {
        "id": "_S2tynpfhaOu"
      },
      "source": [
        "3.ε. Εκτελέστε όλα τα προηγούμενα βήμα προεκπαίδευσης (χρήση μετασχηματιστών) ώστε να είναι \"καθαρό\" το αρχικό σύνολο για να χρησιμοποιηθεί για την εκπαίδευση των ταξινομητών."
      ]
    },
    {
      "cell_type": "code",
      "execution_count": 405,
      "metadata": {
        "id": "_LdteolxhZfi"
      },
      "outputs": [],
      "source": [
        "#βλ 3β"
      ]
    },
    {
      "cell_type": "markdown",
      "metadata": {
        "id": "OeD8amKKLJFr"
      },
      "source": [
        "3.στ. Αφού έχετε \"καθαρίσει\" το αρχικό σύνολο εκπαίδευσης, γράψτε τον κατάλληλο κώδικα ώστε από το αρχικό σύνολο εκπαίδευσης να δημιουργήσετε τα σύνολα Χ και y.\n",
        "\n",
        "💡 `Η στήλη 'RainTomorrow' είναι η τιμή που θέλουμε να προβλέψει ο ταξινομητής μας.`\n",
        "\n"
      ]
    },
    {
      "cell_type": "code",
      "execution_count": 406,
      "metadata": {
        "colab": {
          "base_uri": "https://localhost:8080/"
        },
        "id": "FysfIb93LJxS",
        "outputId": "0c08fa2d-917a-4dce-b48b-42dce2086903"
      },
      "outputs": [
        {
          "data": {
            "text/plain": [
              "((48423, 111), (48423,))"
            ]
          },
          "execution_count": 406,
          "metadata": {},
          "output_type": "execute_result"
        }
      ],
      "source": [
        "column_to_exclude = 'remainder__RainTomorrow'\n",
        "y = df_transformed_dense[column_to_exclude]# output = RainTomorrow\n",
        "X = df_transformed_dense.drop(columns=[column_to_exclude])#input = columns-RainTomorrow\n",
        "X.shape, y.shape"
      ]
    },
    {
      "cell_type": "markdown",
      "metadata": {
        "id": "8oU_se4UT0JF"
      },
      "source": [
        "3.ζ. Διαχωρίστε το σύνολο δεδομένων σε σύνολο εκπαίδευσης (train set) και σε σύνολο επικύρωσης (validation set) (ο διαχωρισμός να είναι train set 70% και validation set 30%).\n"
      ]
    },
    {
      "cell_type": "code",
      "execution_count": 407,
      "metadata": {
        "id": "wcwB_TK1ixvl"
      },
      "outputs": [],
      "source": [
        "from sklearn.model_selection import train_test_split\n",
        "\n",
        "RAND_STATE = 42\n",
        "  # Split into training and testing\n",
        "X_train, X_test, y_train, y_test = train_test_split(X, y, test_size=0.3, random_state=RAND_STATE)"
      ]
    },
    {
      "cell_type": "markdown",
      "metadata": {
        "id": "xhITyhMuSslH"
      },
      "source": [
        "### 4. Εκπαίδευση μοντέλου με default τιμές στις παραμέτρους των ταξινομητών\n",
        "\n",
        "Θα εκπαιδεύσουμε τους ακόλουθους ταξινομητές με το σύνολο εκπαίδευσης των δεδομένων μας:\n",
        "1. Naive Bayes\n",
        "2. KNeighborsClassifier\n",
        "3. LogisticRegression\n",
        "4. MLP με ένα κρυφό επίπεδο\n",
        "5. SVC\n",
        "6. Decision Tree\n",
        "7. Random Forest\n"
      ]
    },
    {
      "cell_type": "code",
      "execution_count": 407,
      "metadata": {
        "id": "-r3kEVgkU0OF"
      },
      "outputs": [],
      "source": []
    },
    {
      "cell_type": "markdown",
      "metadata": {
        "id": "a49EG4Z9U0yD"
      },
      "source": [
        " 4.α. Εκπαιδεύστε (fit)  και τους  7 ταξινομητές που προαναφέρθηκαν (εμφανίστε τα δείγματα από το train set μαζί με την ετικέτα τους στην είσοδο του κάθε ταξινομητή), χρησιμοποιώντας τις default τιμές για όλες τις παραμέτρους τους."
      ]
    },
    {
      "cell_type": "code",
      "execution_count": 408,
      "metadata": {
        "colab": {
          "base_uri": "https://localhost:8080/"
        },
        "id": "-_kDpm_sWRjs",
        "outputId": "342d5ea3-057f-4c15-88a8-4b6323c8f69b"
      },
      "outputs": [
        {
          "name": "stdout",
          "output_type": "stream",
          "text": [
            "Naive Bayes done\n",
            "\n",
            "KNeighborsClassifier done\n"
          ]
        },
        {
          "name": "stderr",
          "output_type": "stream",
          "text": [
            "/usr/local/lib/python3.10/dist-packages/sklearn/linear_model/_logistic.py:458: ConvergenceWarning: lbfgs failed to converge (status=1):\n",
            "STOP: TOTAL NO. of ITERATIONS REACHED LIMIT.\n",
            "\n",
            "Increase the number of iterations (max_iter) or scale the data as shown in:\n",
            "    https://scikit-learn.org/stable/modules/preprocessing.html\n",
            "Please also refer to the documentation for alternative solver options:\n",
            "    https://scikit-learn.org/stable/modules/linear_model.html#logistic-regression\n",
            "  n_iter_i = _check_optimize_result(\n"
          ]
        },
        {
          "name": "stdout",
          "output_type": "stream",
          "text": [
            "\n",
            "Logistic Regression done\n",
            "\n",
            "MLP Classifier - Training set samples and labels:\n"
          ]
        },
        {
          "name": "stderr",
          "output_type": "stream",
          "text": [
            "/usr/local/lib/python3.10/dist-packages/sklearn/svm/_base.py:1244: ConvergenceWarning: Liblinear failed to converge, increase the number of iterations.\n",
            "  warnings.warn(\n"
          ]
        },
        {
          "name": "stdout",
          "output_type": "stream",
          "text": [
            "\n",
            "LinearSVC - Training set samples and labels:\n",
            "\n",
            "Decision Tree - Training set samples and labels:\n",
            "\n",
            "Random Forest - Training set samples and labels:\n"
          ]
        }
      ],
      "source": [
        "from sklearn.naive_bayes import GaussianNB\n",
        "from sklearn.neighbors import KNeighborsClassifier\n",
        "from sklearn.linear_model import LogisticRegression\n",
        "from sklearn.neural_network import MLPClassifier\n",
        "from sklearn.svm import SVC\n",
        "from sklearn.svm import LinearSVC\n",
        "from sklearn.tree import DecisionTreeClassifier\n",
        "from sklearn.ensemble import RandomForestClassifier\n",
        "\n",
        "# Εκπαίδευση Naive Bayes\n",
        "nb_classifier = GaussianNB()\n",
        "nb_classifier.fit(X_train, y_train)\n",
        "print(\"Naive Bayes done\")\n",
        "\n",
        "# Εκπαίδευση KNeighborsClassifier\n",
        "knn_classifier = KNeighborsClassifier()\n",
        "knn_classifier.fit(X_train, y_train)\n",
        "print(\"\\nKNeighborsClassifier done\")\n",
        "\n",
        "# Εκπαίδευση Logistic Regression\n",
        "lr_classifier = LogisticRegression()\n",
        "lr_classifier.fit(X_train, y_train)\n",
        "print(\"\\nLogistic Regression done\")\n",
        "\n",
        "# Εκπαίδευση MLP με ένα κρυφό επίπεδο\n",
        "mlp_classifier = MLPClassifier(hidden_layer_sizes=(1,))\n",
        "mlp_classifier.fit(X_train, y_train)\n",
        "print(\"\\nMLP Classifier - Training set samples and labels:\")\n",
        "\n",
        "# Εκπαίδευση SVC\n",
        "svc_classifier = LinearSVC()\n",
        "svc_classifier.fit(X_train, y_train)\n",
        "print(\"\\nLinearSVC - Training set samples and labels:\")\n",
        "\n",
        "# Εκπαίδευση Decision Tree\n",
        "dt_classifier = DecisionTreeClassifier()\n",
        "dt_classifier.fit(X_train, y_train)\n",
        "print(\"\\nDecision Tree - Training set samples and labels:\")\n",
        "\n",
        "# Εκπαίδευση Random Forest\n",
        "rf_classifier = RandomForestClassifier()\n",
        "rf_classifier.fit(X_train, y_train)\n",
        "print(\"\\nRandom Forest - Training set samples and labels:\")"
      ]
    },
    {
      "cell_type": "markdown",
      "metadata": {
        "id": "dkv21zidSgNX"
      },
      "source": [
        "4.β. Εφαρμόστε στα εκπαιδευμένα μοντέλα από το validation set μόνο τα δείγματα χωρίς την ετικέτα τους (predict).\n"
      ]
    },
    {
      "cell_type": "code",
      "execution_count": 409,
      "metadata": {
        "colab": {
          "base_uri": "https://localhost:8080/"
        },
        "id": "3DqkKHMZQaDe",
        "outputId": "9d0feb07-5cff-46d9-be16-a323d0b09830"
      },
      "outputs": [
        {
          "name": "stdout",
          "output_type": "stream",
          "text": [
            "\n",
            "Naive Bayes - predictions made\n",
            "\n",
            "KNN - predictions made\n",
            "\n",
            "LR - predictions made\n",
            "\n",
            "MLP - predictions made\n",
            "\n",
            "LinearSVC - predictions made\n",
            "\n",
            "DT - predictions made\n",
            "\n",
            "RF - predictions made\n"
          ]
        }
      ],
      "source": [
        "y_pred_nb = nb_classifier.predict(X_test)\n",
        "print(\"\\nNaive Bayes - predictions made\")\n",
        "\n",
        "y_pred_knn = knn_classifier.predict(X_test)\n",
        "print(\"\\nKNN - predictions made\")\n",
        "\n",
        "y_pred_lr = lr_classifier.predict(X_test)\n",
        "print(\"\\nLR - predictions made\")\n",
        "\n",
        "y_pred_mlp = mlp_classifier.predict(X_test)\n",
        "print(\"\\nMLP - predictions made\")\n",
        "\n",
        "y_pred_svc = svc_classifier.predict(X_test)\n",
        "print(\"\\nLinearSVC - predictions made\")\n",
        "\n",
        "y_pred_dt = dt_classifier.predict(X_test)\n",
        "print(\"\\nDT - predictions made\")\n",
        "\n",
        "y_pred_rf = rf_classifier.predict(X_test)\n",
        "print(\"\\nRF - predictions made\")"
      ]
    },
    {
      "cell_type": "markdown",
      "metadata": {
        "id": "BsvLlbPRWaa_"
      },
      "source": [
        "\n",
        "4.γ. Συγκρίνετε την έξοδο του κάθε μοντέλου σε σχέση με τις αντίστοιχες ετικέτες του validation set και αξιολογήστε την επιδοσή τους χρησιμοποιώντας το F1 score.\n"
      ]
    },
    {
      "cell_type": "code",
      "execution_count": 410,
      "metadata": {
        "colab": {
          "base_uri": "https://localhost:8080/"
        },
        "id": "9jkFxtNbWZvY",
        "outputId": "b4e03f74-e1df-4dc3-c006-8b02533a1874"
      },
      "outputs": [
        {
          "name": "stdout",
          "output_type": "stream",
          "text": [
            "nb_classifier F1 score: 0.47530307584410386\n",
            "knn_classifier F1 score: 0.5793678360541855\n",
            "lr_classifier F1 score: 0.6272600834492351\n",
            "mlp_classifier F1 score: 0.6263221779087913\n",
            "svc_classifier F1 score: 0.617288315361499\n",
            "dt_classifier F1 score: 0.5452135493372607\n",
            "rf_classifier F1 score: 0.6204537270435723\n"
          ]
        }
      ],
      "source": [
        "from sklearn.metrics import f1_score\n",
        "\n",
        "# nb\n",
        "nb_f1_score = f1_score(y_test, y_pred_nb, average='binary')\n",
        "print(f'nb_classifier F1 score: {nb_f1_score}')\n",
        "\n",
        "# knn\n",
        "knn_f1_score = f1_score(y_test, y_pred_knn, average='binary')\n",
        "print(f'knn_classifier F1 score: {knn_f1_score}')\n",
        "\n",
        "# lr\n",
        "lr_f1_score = f1_score(y_test, y_pred_lr, average='binary')\n",
        "print(f'lr_classifier F1 score: {lr_f1_score}')\n",
        "\n",
        "# mlp\n",
        "mlp_f1_score = f1_score(y_test, y_pred_mlp, average='binary')\n",
        "print(f'mlp_classifier F1 score: {mlp_f1_score}')\n",
        "\n",
        "# svc\n",
        "svc_f1_score = f1_score(y_test, y_pred_svc, average='binary')\n",
        "print(f'svc_classifier F1 score: {svc_f1_score}')\n",
        "\n",
        "# dt\n",
        "dt_f1_score = f1_score(y_test, y_pred_dt, average='binary')\n",
        "print(f'dt_classifier F1 score: {dt_f1_score}')\n",
        "\n",
        "# rf\n",
        "rf_f1_score = f1_score(y_test, y_pred_rf, average='binary')\n",
        "print(f'rf_classifier F1 score: {rf_f1_score}')"
      ]
    },
    {
      "cell_type": "markdown",
      "metadata": {
        "id": "F1SXqT2vWZTh"
      },
      "source": [
        "4.δ.  Αξιολογήστε συνολικά την επίδοση των μοντέλων χρησιμοποιώντας κάποιο γράφημα (π.χ. ιστόγραμμα, bar plot) και σχολιάστε ποιο μοντέλο είχε την καλύτερη επίδοση.\n"
      ]
    },
    {
      "cell_type": "code",
      "execution_count": 411,
      "metadata": {
        "colab": {
          "base_uri": "https://localhost:8080/",
          "height": 654
        },
        "id": "UOiOlTcJjISQ",
        "outputId": "39e224b8-553f-4f90-eb83-6501b15892a7"
      },
      "outputs": [
        {
          "data": {
            "image/png": "[encoded data removed]",
            "text/plain": [
              "<Figure size 1000x600 with 1 Axes>"
            ]
          },
          "metadata": {},
          "output_type": "display_data"
        }
      ],
      "source": [
        "import matplotlib.pyplot as plt\n",
        "\n",
        "classifiers = ['Random Forest', 'Naive Bayes', 'KNN', 'Logistic Regression', 'MLP', 'SVC', 'Decision Tree']\n",
        "f1_score = [rf_f1_score,nb_f1_score,knn_f1_score,lr_f1_score,mlp_f1_score,svc_f1_score,dt_f1_score]\n",
        "\n",
        "plt.figure(figsize=(10, 6))\n",
        "plt.bar(classifiers, f1_score, color='skyblue')\n",
        "plt.xlabel('Classifiers')\n",
        "plt.ylabel('F1 Score')\n",
        "plt.title('F1 Score of Different Classifiers')\n",
        "plt.ylim(0, 1)\n",
        "plt.xticks(rotation=45)\n",
        "plt.yticks([i/20 for i in range(21)]) # anevainei ana 0.05 o y\n",
        "plt.grid(axis='y')\n",
        "\n",
        "plt.show()\n"
      ]
    },
    {
      "cell_type": "markdown",
      "metadata": {
        "id": "rDJcARSyj_ni"
      },
      "source": [
        "O Random Forest φαινεται να είναι το καλύτερο μοντέλο με 0.86 accuracy."
      ]
    },
    {
      "cell_type": "markdown",
      "metadata": {
        "id": "f1ZWds7ekAsL"
      },
      "source": [
        "### 5. Προετοιμασία αρχείου για την πρώτη υποβολή στο kaggle"
      ]
    },
    {
      "cell_type": "markdown",
      "metadata": {
        "id": "atEnldNpkSTG"
      },
      "source": [
        "5.α. Χρησιμοποιήστε **ΜΟΝΟ** το μοντέλο σας με την καλύτερη επίδοση για να κάνετε προβλέψεις, χρησιμοποιώντας το [test set](https://drive.google.com/file/d/1bcmuoeRVY0y5ZuY6nZcmzy8_5fOFR4Oa/view?usp=drive_link).\n"
      ]
    },
    {
      "cell_type": "code",
      "execution_count": 412,
      "metadata": {
        "colab": {
          "base_uri": "https://localhost:8080/",
          "height": 73
        },
        "id": "1XLbT-tihYI1",
        "outputId": "be7f4c50-6f21-4162-86b8-b084b45ae49d"
      },
      "outputs": [
        {
          "data": {
            "text/html": [
              "\n",
              "     <input type=\"file\" id=\"files-e1448b10-d65f-4086-b5e8-00e595353afb\" name=\"files[]\" multiple disabled\n",
              "        style=\"border:none\" />\n",
              "     <output id=\"result-e1448b10-d65f-4086-b5e8-00e595353afb\">\n",
              "      Upload widget is only available when the cell has been executed in the\n",
              "      current browser session. Please rerun this cell to enable.\n",
              "      </output>\n",
              "      <script>// Copyright 2017 Google LLC\n",
              "//\n",
              "// Licensed under the Apache License, Version 2.0 (the \"License\");\n",
              "// you may not use this file except in compliance with the License.\n",
              "// You may obtain a copy of the License at\n",
              "//\n",
              "//      http://www.apache.org/licenses/LICENSE-2.0\n",
              "//\n",
              "// Unless required by applicable law or agreed to in writing, software\n",
              "// distributed under the License is distributed on an \"AS IS\" BASIS,\n",
              "// WITHOUT WARRANTIES OR CONDITIONS OF ANY KIND, either express or implied.\n",
              "// See the License for the specific language governing permissions and\n",
              "// limitations under the License.\n",
              "\n",
              "/**\n",
              " * @fileoverview Helpers for google.colab Python module.\n",
              " */\n",
              "(function(scope) {\n",
              "function span(text, styleAttributes = {}) {\n",
              "  const element = document.createElement('span');\n",
              "  element.textContent = text;\n",
              "  for (const key of Object.keys(styleAttributes)) {\n",
              "    element.style[key] = styleAttributes[key];\n",
              "  }\n",
              "  return element;\n",
              "}\n",
              "\n",
              "// Max number of bytes which will be uploaded at a time.\n",
              "const MAX_PAYLOAD_SIZE = 100 * 1024;\n",
              "\n",
              "function _uploadFiles(inputId, outputId) {\n",
              "  const steps = uploadFilesStep(inputId, outputId);\n",
              "  const outputElement = document.getElementById(outputId);\n",
              "  // Cache steps on the outputElement to make it available for the next call\n",
              "  // to uploadFilesContinue from Python.\n",
              "  outputElement.steps = steps;\n",
              "\n",
              "  return _uploadFilesContinue(outputId);\n",
              "}\n",
              "\n",
              "// This is roughly an async generator (not supported in the browser yet),\n",
              "// where there are multiple asynchronous steps and the Python side is going\n",
              "// to poll for completion of each step.\n",
              "// This uses a Promise to block the python side on completion of each step,\n",
              "// then passes the result of the previous step as the input to the next step.\n",
              "function _uploadFilesContinue(outputId) {\n",
              "  const outputElement = document.getElementById(outputId);\n",
              "  const steps = outputElement.steps;\n",
              "\n",
              "  const next = steps.next(outputElement.lastPromiseValue);\n",
              "  return Promise.resolve(next.value.promise).then((value) => {\n",
              "    // Cache the last promise value to make it available to the next\n",
              "    // step of the generator.\n",
              "    outputElement.lastPromiseValue = value;\n",
              "    return next.value.response;\n",
              "  });\n",
              "}\n",
              "\n",
              "/**\n",
              " * Generator function which is called between each async step of the upload\n",
              " * process.\n",
              " * @param {string} inputId Element ID of the input file picker element.\n",
              " * @param {string} outputId Element ID of the output display.\n",
              " * @return {!Iterable<!Object>} Iterable of next steps.\n",
              " */\n",
              "function* uploadFilesStep(inputId, outputId) {\n",
              "  const inputElement = document.getElementById(inputId);\n",
              "  inputElement.disabled = false;\n",
              "\n",
              "  const outputElement = document.getElementById(outputId);\n",
              "  outputElement.innerHTML = '';\n",
              "\n",
              "  const pickedPromise = new Promise((resolve) => {\n",
              "    inputElement.addEventListener('change', (e) => {\n",
              "      resolve(e.target.files);\n",
              "    });\n",
              "  });\n",
              "\n",
              "  const cancel = document.createElement('button');\n",
              "  inputElement.parentElement.appendChild(cancel);\n",
              "  cancel.textContent = 'Cancel upload';\n",
              "  const cancelPromise = new Promise((resolve) => {\n",
              "    cancel.onclick = () => {\n",
              "      resolve(null);\n",
              "    };\n",
              "  });\n",
              "\n",
              "  // Wait for the user to pick the files.\n",
              "  const files = yield {\n",
              "    promise: Promise.race([pickedPromise, cancelPromise]),\n",
              "    response: {\n",
              "      action: 'starting',\n",
              "    }\n",
              "  };\n",
              "\n",
              "  cancel.remove();\n",
              "\n",
              "  // Disable the input element since further picks are not allowed.\n",
              "  inputElement.disabled = true;\n",
              "\n",
              "  if (!files) {\n",
              "    return {\n",
              "      response: {\n",
              "        action: 'complete',\n",
              "      }\n",
              "    };\n",
              "  }\n",
              "\n",
              "  for (const file of files) {\n",
              "    const li = document.createElement('li');\n",
              "    li.append(span(file.name, {fontWeight: 'bold'}));\n",
              "    li.append(span(\n",
              "        `(${file.type || 'n/a'}) - ${file.size} bytes, ` +\n",
              "        `last modified: ${\n",
              "            file.lastModifiedDate ? file.lastModifiedDate.toLocaleDateString() :\n",
              "                                    'n/a'} - `));\n",
              "    const percent = span('0% done');\n",
              "    li.appendChild(percent);\n",
              "\n",
              "    outputElement.appendChild(li);\n",
              "\n",
              "    const fileDataPromise = new Promise((resolve) => {\n",
              "      const reader = new FileReader();\n",
              "      reader.onload = (e) => {\n",
              "        resolve(e.target.result);\n",
              "      };\n",
              "      reader.readAsArrayBuffer(file);\n",
              "    });\n",
              "    // Wait for the data to be ready.\n",
              "    let fileData = yield {\n",
              "      promise: fileDataPromise,\n",
              "      response: {\n",
              "        action: 'continue',\n",
              "      }\n",
              "    };\n",
              "\n",
              "    // Use a chunked sending to avoid message size limits. See b/62115660.\n",
              "    let position = 0;\n",
              "    do {\n",
              "      const length = Math.min(fileData.byteLength - position, MAX_PAYLOAD_SIZE);\n",
              "      const chunk = new Uint8Array(fileData, position, length);\n",
              "      position += length;\n",
              "\n",
              "      const base64 = btoa(String.fromCharCode.apply(null, chunk));\n",
              "      yield {\n",
              "        response: {\n",
              "          action: 'append',\n",
              "          file: file.name,\n",
              "          data: base64,\n",
              "        },\n",
              "      };\n",
              "\n",
              "      let percentDone = fileData.byteLength === 0 ?\n",
              "          100 :\n",
              "          Math.round((position / fileData.byteLength) * 100);\n",
              "      percent.textContent = `${percentDone}% done`;\n",
              "\n",
              "    } while (position < fileData.byteLength);\n",
              "  }\n",
              "\n",
              "  // All done.\n",
              "  yield {\n",
              "    response: {\n",
              "      action: 'complete',\n",
              "    }\n",
              "  };\n",
              "}\n",
              "\n",
              "scope.google = scope.google || {};\n",
              "scope.google.colab = scope.google.colab || {};\n",
              "scope.google.colab._files = {\n",
              "  _uploadFiles,\n",
              "  _uploadFilesContinue,\n",
              "};\n",
              "})(self);\n",
              "</script> "
            ],
            "text/plain": [
              "<IPython.core.display.HTML object>"
            ]
          },
          "metadata": {},
          "output_type": "display_data"
        },
        {
          "name": "stdout",
          "output_type": "stream",
          "text": [
            "Saving test.csv to test (7).csv\n"
          ]
        }
      ],
      "source": [
        "from google.colab import files\n",
        "upload_file =files.upload()"
      ]
    },
    {
      "cell_type": "code",
      "execution_count": 413,
      "metadata": {
        "colab": {
          "base_uri": "https://localhost:8080/"
        },
        "id": "UM0B638pkBLC",
        "outputId": "40b07bb6-7cfe-4d84-eb0e-dcfc9a0e6cf2"
      },
      "outputs": [
        {
          "name": "stdout",
          "output_type": "stream",
          "text": [
            "\n",
            "mlp - predictions made\n"
          ]
        }
      ],
      "source": [
        "test = pd.read_csv('test.csv')\n",
        "\n",
        "# morfopoihsh tou test wste na exei thn idia morfh me to test\n",
        "#df['Date'] = pd.to_datetime(df['Date']) #\n",
        "#df['Month'] = df['Date'].dt.month # kaname correlation_matrix gia to month kai den ephrreaze shmantika to Raintomorrow, opote kaname drop\n",
        "test.drop(['MinTemp','Temp9am','Date'], axis=1, inplace=True) # η συσχετιση σε σχεση με το RainTomorrow ειναι πολυ μικρη\n",
        "test['AvgMaxTemp'] = test[['MaxTemp', 'Temp3pm']].mean(axis=1) # κανω συνενωση το average των MaxTemp και Temp3pm\n",
        "test.drop(['MaxTemp','Temp3pm'], axis=1, inplace=True) # σβηνω τα Temp3pm, MaxTemp, αρα μενει μονο το AvgMaxTemp\n",
        "\n",
        "\n",
        "# handle numeric features\n",
        "numeric_features = test.select_dtypes(include=['number']).columns\n",
        "numeric_features = numeric_features.drop(['RainToday'])\n",
        "numeric_transformer = Pipeline(steps=[\n",
        "    ('imputer', SimpleImputer(strategy='median'))\n",
        "    ,('scaler', StandardScaler())])               # 3.δ) κλιμάκωση\n",
        "\n",
        "# handle categorical features\n",
        "categorical_features = test.select_dtypes(include=['object']).columns\n",
        "categorical_transformer = Pipeline(steps=[\n",
        "    ('imputer', SimpleImputer(strategy='most_frequent')), # 3.β) ii) απουσιάζουσες τιμές\n",
        "    ('scaler', OneHotEncoder(handle_unknown='ignore'))])  # 3.γ) μετατροπή των κατηγορικών μεταβλητών\n",
        "\n",
        "# Create a transformer\n",
        "preprocessor = ColumnTransformer( # 3.ε)\n",
        "    transformers=[\n",
        "        ('num', numeric_transformer, numeric_features),\n",
        "        ('cat', categorical_transformer, categorical_features)]\n",
        "        , remainder='passthrough'  # Handle columns not specified in transformers\n",
        "    )\n",
        "\n",
        "# Fit and transform the data\n",
        "test_transformed = preprocessor.fit_transform(test) # 3.ε)\n",
        "\n",
        "# Now, df_transformed contains the transformed data without the need for np.array conversion\n",
        "\n",
        "# Retrieve feature names after transformation\n",
        "feature_names = preprocessor.get_feature_names_out()\n",
        "\n",
        "# Convert the sparse matrix to a DataFrame\n",
        "test_transformed_dense = pd.DataFrame(test_transformed.toarray(), columns=feature_names) # 3.ε)\n",
        "\n",
        "y_test_pred_mlp = mlp_classifier.predict(test_transformed_dense)\n",
        "print(\"\\nmlp - predictions made\")"
      ]
    },
    {
      "cell_type": "markdown",
      "metadata": {
        "id": "_WwjA-3kjFRj"
      },
      "source": [
        "5.β. Αποθηκεύστε τις προβλέψεις από το καλύτερο μοντέλο σας σε ένα csv αρχείο. To csv αρχείο θα πρέπει να είναι περιέχει 2 στήλες: η πρώτη στήλη να περιέχει την στήλη id του test set file και η δεύτερη στήλη τις αντίστοιχες προβλέψεις που έκανε το καλύτερα εκπαιδευμένο μοντέλο σας (βήμα 5α)."
      ]
    },
    {
      "cell_type": "code",
      "execution_count": 414,
      "metadata": {
        "colab": {
          "base_uri": "https://localhost:8080/"
        },
        "id": "Z6SPFOpZjF5l",
        "outputId": "29b7fe6d-98f6-4ec0-e8a2-f32e34ffb256"
      },
      "outputs": [
        {
          "name": "stdout",
          "output_type": "stream",
          "text": [
            "<class 'pandas.core.frame.DataFrame'>\n",
            "RangeIndex: 9699 entries, 0 to 9698\n",
            "Data columns (total 2 columns):\n",
            " #   Column        Non-Null Count  Dtype  \n",
            "---  ------        --------------  -----  \n",
            " 0   id            9699 non-null   int64  \n",
            " 1   RainTomorrow  9699 non-null   float64\n",
            "dtypes: float64(1), int64(1)\n",
            "memory usage: 151.7 KB\n"
          ]
        }
      ],
      "source": [
        "# Create a new DataFrame 'ID' with the 'RainTomorrow' column\n",
        "ID_df = pd.DataFrame({'id': range(1, len(y_test_pred_mlp) + 1), 'RainTomorrow': y_test_pred_mlp})\n",
        "\n",
        "ID_df.info()\n",
        "\n",
        "ID_df.to_csv('semi_final_output.csv',index=False)"
      ]
    },
    {
      "cell_type": "markdown",
      "metadata": {
        "id": "j6OoLlxrYILN"
      },
      "source": [
        "### 6. Βελτιστοποίηση μοντέλων με εύρεση καλύτερων υπερπαραμέτρων των ταξινομητών\n",
        "\n",
        "6.α. Για τους 7 ταξινομητές βελτιστοποιήστε την επίδοσή τους χρησιμοποιώντας αναζήτηση πλέγματος με διασταυρούμενη επικύρωση (k-fold 5)  με σκοπό την εύρεση των βέλτιστων υπερπαραμέτρων."
      ]
    },
    {
      "cell_type": "code",
      "execution_count": 415,
      "metadata": {
        "id": "FK_zetZLlOeV"
      },
      "outputs": [],
      "source": [
        "#GRID GIA RANDOM FOREST\n",
        "\n",
        "#grid = {\n",
        "#   'n_estimators': [100,200,300,400,500],\n",
        "#    'max_features': ['sqrt', 'log2'],\n",
        "#    'max_depth' : [None,2,4,6,8,10],\n",
        "#    'criterion' :['gini', 'entropy'],\n",
        "#    'random_state' : [18]\n",
        "#}\n",
        "\n",
        "#rf_cv = GridSearchCV(estimator=RandomForestClassifier(), param_grid=grid, cv= 5, scoring ='f1')\n",
        "#rf_cv.fit(X_train, y_train)\n",
        "#rf_cv.best_params_"
      ]
    },
    {
      "cell_type": "code",
      "execution_count": 416,
      "metadata": {
        "id": "5RKJsKSsKjnr"
      },
      "outputs": [],
      "source": [
        "#GRID GIA LinearSVC\n",
        "\n",
        "#grid = {\n",
        "#             'C': [1, 10, 100, 400, 1000]\n",
        "#}\n",
        "\n",
        "#LinearSVC_cv = GridSearchCV(LinearSVC(), param_grid=grid, cv= 5, n_jobs=-1, verbose=0, scoring = 'f1')\n",
        "#LinearSVC_cv.fit(X_train, y_train)\n",
        "#LinearSVC_cv.best_params_\n"
      ]
    },
    {
      "cell_type": "code",
      "execution_count": 417,
      "metadata": {
        "id": "klgzNv5IK_Mi"
      },
      "outputs": [],
      "source": [
        "#GRID GIA DT\n",
        "\n",
        "#grid = {\n",
        "#    'splitter': ['best', 'random'],\n",
        "#    'criterion': ['gini', 'entropy'],\n",
        "#    'max_features': ['log2', 'sqrt', 'auto'],\n",
        "#    'max_depth': [5, 10, 15, 20],\n",
        "#    'min_samples_split': [5, 10, 15, 20],\n",
        "#    'min_samples_leaf': [5, 10, 15, 20],\n",
        "#    'random_state': [0, 1, 2, 3, 4, 5, 6, 7, 8, 9, 10, 42, 100]\n",
        "#}\n",
        "\n",
        "#dt_cv = GridSearchCV(estimator = DecisionTreeClassifier(),param_grid = grid,scoring = 'f1',cv = 5,verbose = 1)\n",
        "#dt_cv.fit(X_train, y_train)\n",
        "#dt_cv.best_params_"
      ]
    },
    {
      "cell_type": "code",
      "execution_count": 418,
      "metadata": {
        "id": "18dc9kkgLads"
      },
      "outputs": [],
      "source": [
        "#GRID GIA MLP\n",
        "\n",
        "#grid = {\n",
        "#    'hidden_layer_sizes': [(10,30,10),(20,)],\n",
        "#    'activation': ['tanh', 'relu'],\n",
        "#    'solver': ['sgd', 'adam'],\n",
        "#    'alpha': [0.0001, 0.05],\n",
        "#    'learning_rate': ['constant','adaptive'],\n",
        "#}\n",
        "\n",
        "#mlp_cv = GridSearchCV(MLPClassifier(max_iter=200), param_grid=grid, n_jobs=-1, cv=5,scoring = 'f1')\n",
        "#mlp_cv.fit(X, y) # X is train samples and y is the corresponding labels"
      ]
    },
    {
      "cell_type": "code",
      "execution_count": 419,
      "metadata": {
        "id": "DVx17_3_NPob"
      },
      "outputs": [],
      "source": [
        "#GRID GIA KNN\n",
        "\n",
        "#grid = {\n",
        "#                 'n_neighbors': [5,8,10,15,20,30,50],\n",
        "#                 'metric':['euclidean','manhattan']\n",
        "#}\n",
        "\n",
        "#knn_cv = GridSearchCV(KNeighborsClassifier(), param_grid=grid, cv= 5, n_jobs=-1, verbose=0,scoring = 'f1')\n",
        "#knn_cv.fit(X_train, y_train)\n",
        "#knn_cv.best_params_"
      ]
    },
    {
      "cell_type": "code",
      "execution_count": 420,
      "metadata": {
        "id": "cpgnDliJNhPQ"
      },
      "outputs": [],
      "source": [
        "#GRID GIA LR\n",
        "\n",
        "#import numpy as np\n",
        "#grid = [\n",
        "#    {'penalty' : ['l1', 'l2', 'elasticnet', 'none'],\n",
        "#   'C' : np.logspace(-4, 4, 20),\n",
        "#    'solver' : ['lbfgs','newton-cg','liblinear','sag','saga'],\n",
        "#    'max_iter' : [100, 1000,2500, 5000]\n",
        "#    }\n",
        "#]\n",
        "\n",
        "#lr_cv = GridSearchCV(LogisticRegression(), param_grid = grid, cv = 5, verbose=True, n_jobs=-1,scoring = 'f1')\n",
        "#lr_cv.fit(X_train,y_train)\n",
        "#lr_cv.best_params_\n"
      ]
    },
    {
      "cell_type": "code",
      "execution_count": 421,
      "metadata": {
        "id": "Ab_FdPGScpKJ"
      },
      "outputs": [],
      "source": [
        "#GRID GIA NB\n",
        "#grid = {\n",
        "#       'var_smoothing': [10,1,1e-4,1e-5,1e-6,1e-7,1e-8,1e-9,1e-10]\n",
        "#}\n",
        "\n",
        "#nb_cv = GridSearchCV(LinearSVC(), param_grid=grid, cv= 5,scoring = 'f1', n_jobs=-1, verbose=0)\n",
        "#nb_cv.fit(X_train, y_train)\n",
        "#nb_cv.best_params_"
      ]
    },
    {
      "cell_type": "markdown",
      "metadata": {
        "id": "QYLApi2rQUnU"
      },
      "source": [
        "Τρέχουμε όλα τα μοντέλα για τα βέλτιστα χαρακτηριστικά που προέκυψαν από το grid."
      ]
    },
    {
      "cell_type": "code",
      "execution_count": 422,
      "metadata": {
        "colab": {
          "base_uri": "https://localhost:8080/"
        },
        "id": "jlIEvxT2QS8s",
        "outputId": "3b711e65-7fa9-4cd9-a401-78f0995127b6"
      },
      "outputs": [
        {
          "name": "stdout",
          "output_type": "stream",
          "text": [
            "\n",
            "MLP done\n"
          ]
        }
      ],
      "source": [
        "#MLP BEST PARAMETERS\n",
        "\n",
        "from sklearn.model_selection import GridSearchCV\n",
        "from sklearn.linear_model import LogisticRegression\n",
        "from sklearn.neighbors import KNeighborsClassifier\n",
        "from sklearn.svm import LinearSVC\n",
        "from sklearn.ensemble import RandomForestClassifier\n",
        "from sklearn.tree import DecisionTreeClassifier\n",
        "from sklearn.neural_network import MLPClassifier\n",
        "\n",
        "from sklearn.model_selection import GridSearchCV\n",
        "\n",
        "mlp_classifier = MLPClassifier(\n",
        "    activation='tanh',\n",
        "    alpha=0.1,\n",
        "    hidden_layer_sizes=(30,),\n",
        "    learning_rate='constant',\n",
        "    solver='adam',\n",
        ")\n",
        "mlp_classifier.fit(X_train, y_train)\n",
        "print(\"\\nMLP done\")"
      ]
    },
    {
      "cell_type": "code",
      "execution_count": 423,
      "metadata": {
        "colab": {
          "base_uri": "https://localhost:8080/"
        },
        "id": "qlwtDmVsTrut",
        "outputId": "c44f03cd-cc00-401a-e373-06e2d8787f0d"
      },
      "outputs": [
        {
          "name": "stdout",
          "output_type": "stream",
          "text": [
            "\n",
            "Knn done\n"
          ]
        }
      ],
      "source": [
        "#KNN BEST PARAMETERS\n",
        "\n",
        "knn_classifier = KNeighborsClassifier( metric= 'euclidean', n_neighbors= 15)\n",
        "knn_classifier.fit(X_train, y_train)\n",
        "print(\"\\nKnn done\")"
      ]
    },
    {
      "cell_type": "code",
      "execution_count": 424,
      "metadata": {
        "colab": {
          "base_uri": "https://localhost:8080/"
        },
        "id": "SaNy86Ihj2DF",
        "outputId": "8a8adab3-a487-4089-8421-7dd02e9b55ce"
      },
      "outputs": [
        {
          "name": "stdout",
          "output_type": "stream",
          "text": [
            "\n",
            "SVC done\n"
          ]
        },
        {
          "name": "stderr",
          "output_type": "stream",
          "text": [
            "/usr/local/lib/python3.10/dist-packages/sklearn/svm/_base.py:1244: ConvergenceWarning: Liblinear failed to converge, increase the number of iterations.\n",
            "  warnings.warn(\n"
          ]
        }
      ],
      "source": [
        "#SVC BEST PARAMETERS\n",
        "\n",
        "svc_classifier = LinearSVC( C= 10)\n",
        "svc_classifier.fit(X_train, y_train)\n",
        "print(\"\\nSVC done\")"
      ]
    },
    {
      "cell_type": "code",
      "execution_count": 425,
      "metadata": {
        "colab": {
          "base_uri": "https://localhost:8080/"
        },
        "id": "QDOLtWtGj4qE",
        "outputId": "7972af96-b003-4423-b41c-4e16dec292b2"
      },
      "outputs": [
        {
          "name": "stdout",
          "output_type": "stream",
          "text": [
            "\n",
            "Random Forest done\n"
          ]
        }
      ],
      "source": [
        "#RF BEST PARAMETERS\n",
        "\n",
        "rf_classifier = RandomForestClassifier(\n",
        "      criterion= 'gini',\n",
        " \t    max_depth= None,\n",
        " \t    max_features= 'sqrt',\n",
        " \t    n_estimators= 500,\n",
        "      random_state= None\n",
        ")\n",
        "rf_classifier.fit(X_train, y_train)\n",
        "print(\"\\nRandom Forest done\")"
      ]
    },
    {
      "cell_type": "code",
      "execution_count": 426,
      "metadata": {
        "colab": {
          "base_uri": "https://localhost:8080/"
        },
        "id": "DqCRVKXZbQip",
        "outputId": "6a08fc1e-2fe3-4943-d049-0794af75705b"
      },
      "outputs": [
        {
          "name": "stdout",
          "output_type": "stream",
          "text": [
            "\n",
            "Desicion Tree done\n"
          ]
        }
      ],
      "source": [
        "#DT BEST PARAMETERS\n",
        "\n",
        "dt_classifier = DecisionTreeClassifier(\n",
        "      criterion= 'entropy',\n",
        " \t    max_depth= 10,\n",
        " \t    min_samples_leaf= 1,\n",
        " \t    min_samples_split= 2,\n",
        " \t    random_state= None,\n",
        " \t    splitter= 'best'\n",
        ")\n",
        "dt_classifier.fit(X_train, y_train)\n",
        "print(\"\\nDesicion Tree done\")"
      ]
    },
    {
      "cell_type": "code",
      "execution_count": 427,
      "metadata": {
        "colab": {
          "base_uri": "https://localhost:8080/"
        },
        "id": "KnkcoSRxbQhD",
        "outputId": "e978465e-5c0f-486a-901f-c87a640222a1"
      },
      "outputs": [
        {
          "name": "stdout",
          "output_type": "stream",
          "text": [
            "\n",
            "Logistic Regression done\n"
          ]
        }
      ],
      "source": [
        "#LR BEST PARAMETERS\n",
        "\n",
        "lr_classifier = LogisticRegression(\n",
        "    penalty = 'l2',\n",
        "    class_weight = 'balanced',\n",
        "    max_iter = 5000, C = 1.0,\n",
        "    solver = 'liblinear',\n",
        "    )\n",
        "\n",
        "lr_classifier.fit(X_train, y_train)\n",
        "print(\"\\nLogistic Regression done\")"
      ]
    },
    {
      "cell_type": "code",
      "execution_count": 428,
      "metadata": {
        "colab": {
          "base_uri": "https://localhost:8080/"
        },
        "id": "vRhgCysicy8A",
        "outputId": "3f6b743b-7a42-42c2-f1b7-8ed39364d5b3"
      },
      "outputs": [
        {
          "name": "stdout",
          "output_type": "stream",
          "text": [
            "\n",
            "Naive Bayes done\n"
          ]
        }
      ],
      "source": [
        "#NB BEST PARAMETERS\n",
        "\n",
        "nb_classifier = GaussianNB(var_smoothing = 1)\n",
        "nb_classifier.fit(X_train, y_train)\n",
        "print(\"\\nNaive Bayes done\")"
      ]
    },
    {
      "cell_type": "markdown",
      "metadata": {
        "id": "KD2jGJgUloMW"
      },
      "source": [
        "# 6.β. Εφαρμόστε στα εκπαιδευμένα μοντέλα από το validation set μόνο τα δείγματα χωρίς την ετικέτα τους (predict).\n"
      ]
    },
    {
      "cell_type": "code",
      "execution_count": 429,
      "metadata": {
        "colab": {
          "base_uri": "https://localhost:8080/"
        },
        "id": "ANPd125TloMW",
        "outputId": "96ab1e0b-30f3-4dc3-d137-abeb9f66e68b"
      },
      "outputs": [
        {
          "name": "stdout",
          "output_type": "stream",
          "text": [
            "\n",
            "MLP - predictions made\n"
          ]
        }
      ],
      "source": [
        "#MLP\n",
        "y_pred_mlp = mlp_classifier.predict(X_test)\n",
        "print(\"\\nMLP - predictions made\")"
      ]
    },
    {
      "cell_type": "code",
      "execution_count": 430,
      "metadata": {
        "colab": {
          "base_uri": "https://localhost:8080/"
        },
        "id": "TwIlPDccU-ga",
        "outputId": "dc29bcfe-bca0-4717-c7d7-3e65c0280213"
      },
      "outputs": [
        {
          "name": "stdout",
          "output_type": "stream",
          "text": [
            "\n",
            "LR - predictions made\n"
          ]
        }
      ],
      "source": [
        "#LR\n",
        "y_pred_lr = lr_classifier.predict(X_test)\n",
        "print(\"\\nLR - predictions made\")"
      ]
    },
    {
      "cell_type": "code",
      "execution_count": 431,
      "metadata": {
        "colab": {
          "base_uri": "https://localhost:8080/"
        },
        "id": "66qNh-2DWTKa",
        "outputId": "9a51708a-bd8e-4dbd-f725-6038f1be9940"
      },
      "outputs": [
        {
          "name": "stdout",
          "output_type": "stream",
          "text": [
            "\n",
            "DT - predictions made\n"
          ]
        }
      ],
      "source": [
        "#DT\n",
        "y_pred_dt = dt_classifier.predict(X_test)\n",
        "print(\"\\nDT - predictions made\")"
      ]
    },
    {
      "cell_type": "code",
      "execution_count": 432,
      "metadata": {
        "colab": {
          "base_uri": "https://localhost:8080/"
        },
        "id": "qnT-h92IW2Kk",
        "outputId": "15fece91-eba0-47bb-c6c5-45b386943962"
      },
      "outputs": [
        {
          "name": "stdout",
          "output_type": "stream",
          "text": [
            "\n",
            "RF - predictions made\n"
          ]
        }
      ],
      "source": [
        "#RF\n",
        "y_pred_rf = rf_classifier.predict(X_test)\n",
        "print(\"\\nRF - predictions made\")"
      ]
    },
    {
      "cell_type": "code",
      "execution_count": 433,
      "metadata": {
        "colab": {
          "base_uri": "https://localhost:8080/"
        },
        "id": "C_M5Z9WKXSZ0",
        "outputId": "8aa119b2-1274-4cca-acb2-e5f7bfa1a064"
      },
      "outputs": [
        {
          "name": "stdout",
          "output_type": "stream",
          "text": [
            "\n",
            "SVC - predictions made\n"
          ]
        }
      ],
      "source": [
        "#SVC\n",
        "y_pred_svc = svc_classifier.predict(X_test)\n",
        "print(\"\\nSVC - predictions made\")"
      ]
    },
    {
      "cell_type": "code",
      "execution_count": 434,
      "metadata": {
        "colab": {
          "base_uri": "https://localhost:8080/"
        },
        "id": "RCjJaB_FXl7e",
        "outputId": "a2ee8bbf-71a1-4421-b95a-236071c5af7f"
      },
      "outputs": [
        {
          "name": "stdout",
          "output_type": "stream",
          "text": [
            "\n",
            "KNN - predictions made\n"
          ]
        }
      ],
      "source": [
        "#KNN\n",
        "y_pred_knn = knn_classifier.predict(X_test)\n",
        "print(\"\\nKNN - predictions made\")"
      ]
    },
    {
      "cell_type": "code",
      "execution_count": 435,
      "metadata": {
        "colab": {
          "base_uri": "https://localhost:8080/"
        },
        "id": "ddcNNTqKYIM2",
        "outputId": "dd417d6c-10c0-4736-d325-3889927bbc74"
      },
      "outputs": [
        {
          "name": "stdout",
          "output_type": "stream",
          "text": [
            "\n",
            "NB - predictions made\n"
          ]
        }
      ],
      "source": [
        "#NB\n",
        "y_pred_nb = nb_classifier.predict(X_test)\n",
        "print(\"\\nNB - predictions made\")"
      ]
    },
    {
      "cell_type": "markdown",
      "metadata": {
        "id": "hj_7xTZ-loMW"
      },
      "source": [
        "\n",
        "6.γ. Συγκρίνετε την έξοδο του κάθε μοντέλου σε σχέση με τις αντίστοιχες ετικέτες του validation set και αξιολογήστε την επιδοσή τους χρησιμοποιώντας το F1 score.\n"
      ]
    },
    {
      "cell_type": "code",
      "execution_count": 436,
      "metadata": {
        "colab": {
          "base_uri": "https://localhost:8080/"
        },
        "id": "-o0-7DqIDy-3",
        "outputId": "dbc7ac22-f0e2-47a4-c29c-7e719fa844f3"
      },
      "outputs": [
        {
          "name": "stdout",
          "output_type": "stream",
          "text": [
            "mlp_classifier F1 score:0.6611\n",
            "lr_classifier F1 score: 0.6418\n",
            "dt_classifier F1 score: 0.5899\n",
            "rf_classifier F1 score: 0.6322\n",
            "svc_classifier F1 score: 0.6074\n",
            "knn_classifier F1 score: 0.5874\n",
            "nb_classifier F1 score: 0.5396\n"
          ]
        }
      ],
      "source": [
        "from sklearn.metrics import f1_score\n",
        "\n",
        "mlp_f1_score = f1_score(y_test, y_pred_mlp, average='binary')\n",
        "print(f'mlp_classifier F1 score:{mlp_f1_score:.4f}')\n",
        "\n",
        "lr_f1_score = f1_score(y_test, y_pred_lr, average='binary')\n",
        "print(f'lr_classifier F1 score: {lr_f1_score:.4f}')\n",
        "\n",
        "dt_f1_score = f1_score(y_test, y_pred_dt, average='binary')\n",
        "print(f'dt_classifier F1 score: {dt_f1_score:.4f}')\n",
        "\n",
        "rf_f1_score = f1_score(y_test, y_pred_rf, average='binary')\n",
        "print(f'rf_classifier F1 score: {rf_f1_score:.4f}')\n",
        "\n",
        "svc_f1_score = f1_score(y_test, y_pred_svc, average='binary')\n",
        "print(f'svc_classifier F1 score: {svc_f1_score:.4f}')\n",
        "\n",
        "knn_f1_score = f1_score(y_test, y_pred_knn, average='binary')\n",
        "print(f'knn_classifier F1 score: {knn_f1_score:.4f}')\n",
        "\n",
        "nb_f1_score = f1_score(y_test, y_pred_nb, average='binary')\n",
        "print(f'nb_classifier F1 score: {nb_f1_score:.4f}')"
      ]
    },
    {
      "cell_type": "markdown",
      "metadata": {
        "id": "l6vs5gOQloMW"
      },
      "source": [
        "6.δ.  Αξιολογήστε συνολικά την επίδοση των μοντέλων χρησιμοποιώντας κάποιο γράφημα (π.χ. ιστόγραμμα, bar plot) και σχολιάστε ποιο μοντέλο είχε την καλύτερη επίδοση.\n"
      ]
    },
    {
      "cell_type": "code",
      "execution_count": 437,
      "metadata": {
        "colab": {
          "base_uri": "https://localhost:8080/",
          "height": 654
        },
        "id": "EsAWlUCUloMX",
        "outputId": "27b26334-72e3-420c-fb5b-f9ae52d4d0ae"
      },
      "outputs": [
        {
          "data": {
            "image/png": "[encoded data removed]",
            "text/plain": [
              "<Figure size 1000x600 with 1 Axes>"
            ]
          },
          "metadata": {},
          "output_type": "display_data"
        }
      ],
      "source": [
        "import matplotlib.pyplot as plt\n",
        "\n",
        "classifiers = ['Random Forest', 'Naive Bayes', 'KNN', 'Logistic Regression', 'MLP', 'SVC', 'Decision Tree']\n",
        "f1_score = [rf_f1_score,nb_f1_score,knn_f1_score,lr_f1_score,mlp_f1_score,svc_f1_score,dt_f1_score]\n",
        "\n",
        "plt.figure(figsize=(10, 6))\n",
        "plt.bar(classifiers, f1_score, color='skyblue')\n",
        "plt.xlabel('Classifiers')\n",
        "plt.ylabel('F1 Score')\n",
        "plt.title('F1 Score of Different Classifiers')\n",
        "plt.ylim(0, 1)\n",
        "plt.xticks(rotation=45)\n",
        "plt.yticks([i/20 for i in range(21)]) # anevainei ana 0.05 o y\n",
        "plt.grid(axis='y')\n",
        "\n",
        "plt.show()"
      ]
    },
    {
      "cell_type": "markdown",
      "metadata": {
        "id": "DrWizICNmItV"
      },
      "source": [
        "### 7. Προετοιμασία αρχείου για τη δεύτερη υποβολή στο kaggle"
      ]
    },
    {
      "cell_type": "markdown",
      "metadata": {
        "id": "GzoRElvAmItV"
      },
      "source": [
        "7.α. Χρησιμοποιήστε **ΜΟΝΟ** το μοντέλο σας με την καλύτερη επίδοση για να κάνετε προβλέψεις χρησιμοποιώντας το δοθέν σύνολο εκπαίδευσης (test set)"
      ]
    },
    {
      "cell_type": "code",
      "execution_count": 438,
      "metadata": {
        "colab": {
          "base_uri": "https://localhost:8080/"
        },
        "id": "HlEBQIOnmItV",
        "outputId": "648b7286-6f0e-4288-9f64-d8142062be44"
      },
      "outputs": [
        {
          "name": "stdout",
          "output_type": "stream",
          "text": [
            "\n",
            "mlp - predictions made\n"
          ]
        }
      ],
      "source": [
        "test = pd.read_csv('test.csv')\n",
        "\n",
        "# morfopoihsh tou test wste na exei thn idia morfh me to test\n",
        "#df['Date'] = pd.to_datetime(df['Date']) #\n",
        "#df['Month'] = df['Date'].dt.month # kaname correlation_matrix gia to month kai den ephrreaze shmantika to Raintomorrow, opote kaname drop\n",
        "test.drop(['MinTemp','Temp9am','Date'], axis=1, inplace=True) # η συσχετιση σε σχεση με το RainTomorrow ειναι πολυ μικρη\n",
        "test['AvgMaxTemp'] = test[['MaxTemp', 'Temp3pm']].mean(axis=1) # κανω συνενωση το average των MaxTemp και Temp3pm\n",
        "test.drop(['MaxTemp','Temp3pm'], axis=1, inplace=True) # σβηνω τα Temp3pm, MaxTemp, αρα μενει μονο το AvgMaxTemp\n",
        "\n",
        "\n",
        "# handle numeric features\n",
        "numeric_features = test.select_dtypes(include=['number']).columns\n",
        "numeric_features = numeric_features.drop(['RainToday'])\n",
        "numeric_transformer = Pipeline(steps=[\n",
        "    ('imputer', SimpleImputer(strategy='median'))\n",
        "    ,('scaler', StandardScaler())])               # 3.δ) κλιμάκωση\n",
        "\n",
        "# handle categorical features\n",
        "categorical_features = test.select_dtypes(include=['object']).columns\n",
        "categorical_transformer = Pipeline(steps=[\n",
        "    ('imputer', SimpleImputer(strategy='most_frequent')), # 3.β) ii) απουσιάζουσες τιμές\n",
        "    ('scaler', OneHotEncoder(handle_unknown='ignore'))])  # 3.γ) μετατροπή των κατηγορικών μεταβλητών\n",
        "\n",
        "# Create a transformer\n",
        "preprocessor = ColumnTransformer( # 3.ε)\n",
        "    transformers=[\n",
        "        ('num', numeric_transformer, numeric_features),\n",
        "        ('cat', categorical_transformer, categorical_features)]\n",
        "        , remainder='passthrough'  # Handle columns not specified in transformers\n",
        "    )\n",
        "\n",
        "# Fit and transform the data\n",
        "test_transformed = preprocessor.fit_transform(test) # 3.ε)\n",
        "\n",
        "# Now, df_transformed contains the transformed data without the need for np.array conversion\n",
        "\n",
        "# Retrieve feature names after transformation\n",
        "feature_names = preprocessor.get_feature_names_out()\n",
        "\n",
        "# Convert the sparse matrix to a DataFrame\n",
        "test_transformed_dense = pd.DataFrame(test_transformed.toarray(), columns=feature_names) # 3.ε)\n",
        "\n",
        "y_test_pred_mlp = mlp_classifier.predict(test_transformed_dense)\n",
        "print(\"\\nmlp - predictions made\")"
      ]
    },
    {
      "cell_type": "markdown",
      "metadata": {
        "id": "TA2fuBn9mItW"
      },
      "source": [
        "7.β. Αποθηκεύστε τις προβλέψεις από το καλύτερο μοντέλο σας σε ένα csv αρχείο. To csv αρχείο θα πρέπει να είναι περιέχει 2 στήλες: η πρώτη στήλη να περιέχει την στήλη id του test set file και η δεύτερη στήλη τις αντίστοιχες προβλέψεις που έκανε το καλύτερα εκπαιδευμένο μοντέλο σας (βήμα 7α)."
      ]
    },
    {
      "cell_type": "code",
      "execution_count": 439,
      "metadata": {
        "colab": {
          "base_uri": "https://localhost:8080/"
        },
        "id": "9A1YaimKmItW",
        "outputId": "44391e19-ba75-43dd-f1c2-a483b1bece6b"
      },
      "outputs": [
        {
          "name": "stdout",
          "output_type": "stream",
          "text": [
            "<class 'pandas.core.frame.DataFrame'>\n",
            "RangeIndex: 9699 entries, 0 to 9698\n",
            "Data columns (total 2 columns):\n",
            " #   Column        Non-Null Count  Dtype  \n",
            "---  ------        --------------  -----  \n",
            " 0   id            9699 non-null   int64  \n",
            " 1   RainTomorrow  9699 non-null   float64\n",
            "dtypes: float64(1), int64(1)\n",
            "memory usage: 151.7 KB\n"
          ]
        }
      ],
      "source": [
        "# Create a new DataFrame 'ID' with the 'RainTomorrow' column\n",
        "ID_df = pd.DataFrame({'id': range(1, len(y_test_pred_mlp) + 1), 'RainTomorrow': y_test_pred_mlp})\n",
        "\n",
        "ID_df.info()\n",
        "\n",
        "ID_df.to_csv('final_output.csv',index=False)"
      ]
    }
  ],
  "metadata": {
    "colab": {
      "provenance": []
    },
    "kernelspec": {
      "display_name": "Python 3",
      "name": "python3"
    },
    "language_info": {
      "name": "python"
    }
  },
  "nbformat": 4,
  "nbformat_minor": 0
}
